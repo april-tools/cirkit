{
 "cells": [
  {
   "cell_type": "markdown",
   "id": "e1e6d6b9",
   "metadata": {},
   "source": [
    "# Tractably compute Maximum a Posteriori"
   ]
  },
  {
   "cell_type": "markdown",
   "id": "b7bf2b04-012a-4d5f-8700-39e848f6b2c9",
   "metadata": {},
   "source": [
    "Consider the case where we have $N$ binary variables $\\mathbf{X}$ distributed according to uknown probability distribution $P(\\mathbf{X})$ and a dataset $\\mathcal{D}$ where datapoints are distributed according to $P(\\mathbf{X})$.\n",
    "\n",
    "For example, a point could be a binary vector from a multi-label classification task, representing whether an object is present on an image or not.\n",
    "\n",
    "Using circuits, we can learn the distribution $P(\\mathbf{X})$ from the dataset. What if we want to know which is the most probable assignment? For instance, which is the combination of objects that is most-likely to appear in the image? What if we know that some objects are present in the image, and we want to know what other objects are also likely to be in the image?\n",
    "\n",
    "Answering these queries means computing the Maximum a Posteriori (MAP) of the distribution $P(\\mathbf{X})$, eventually conditioned on some evidence that we would like to predict. Computing MAP is generally hard, since we have exponentially many assignments that we need to check.\n",
    "\n",
    "It is possible, however, to tractably compute MAP if we have a smooth, decomposable and deterministic circuit! Let's see how to do this in `cirkit`."
   ]
  },
  {
   "cell_type": "markdown",
   "id": "c0a7da71",
   "metadata": {},
   "source": [
    "First, we create a dataset that follows our example. We will set $|\\mathbf{X}| = 10$. Moreover, we make sure that $P(\\mathbf{X})$ has a clear and distinguishible mode -- i.e. we model the distribution so that most of the probability mass lies on one specific variable, $\\mathbf{x}_4$ in our case."
   ]
  },
  {
   "cell_type": "code",
   "execution_count": 3,
   "id": "16120a9b",
   "metadata": {},
   "outputs": [],
   "source": [
    "import torch\n",
    "import torch.distributions as D\n",
    "\n",
    "NUM_VARIABLES = 10\n",
    "MOST_LIKELY_VARIABLE = 3 # counting from 0\n",
    "\n",
    "# define a prior over our data\n",
    "# we do so by randomly sampling a un-normalized prior vector\n",
    "data_p = torch.rand(NUM_VARIABLES)\n",
    "\n",
    "# manually increase the mass on our target variable\n",
    "data_p[MOST_LIKELY_VARIABLE] = 1.5\n",
    "# normalize prior to obtain a valid probability distribution\n",
    "data_p = data_p / data_p.sum()"
   ]
  },
  {
   "cell_type": "markdown",
   "id": "a2cc4647",
   "metadata": {},
   "source": [
    "Let's draw some samples from our distribution. We set $P(\\mathbf{X})$ to a Multinomial distribution with $N$ trials ans use the prior we just defined. When we draw a sample, we apply the indicator function $[P(\\mathbf{x}) > 0]$ to binarize it."
   ]
  },
  {
   "cell_type": "code",
   "execution_count": 5,
   "id": "1cf915fe",
   "metadata": {},
   "outputs": [
    {
     "data": {
      "image/png": "[encoded data removed]",
      "text/plain": [
       "<Figure size 400x200 with 1 Axes>"
      ]
     },
     "metadata": {},
     "output_type": "display_data"
    }
   ],
   "source": [
    "import torch.nn.functional as F\n",
    "import matplotlib.pyplot as plt\n",
    "\n",
    "P_X = D.Multinomial(NUM_VARIABLES, probs=data_p).sample(sample_shape=torch.tensor([1000,])).bool().long()\n",
    "\n",
    "fig, ax = plt.subplots(figsize=(4, 2))\n",
    "\n",
    "count = P_X.sum(dim=0) / P_X.shape[0]\n",
    "\n",
    "ax.bar([str(v) for v in range(NUM_VARIABLES)], count)\n",
    "ax.set_xlabel(\"Variables\")\n",
    "ax.set_ylabel(r\"% of samples with $\\mathbf{x_i}$\")\n",
    "ax.set_title(r\"$P(\\mathbf{X})$\")\n",
    "ax.set_ylim(0, 1)\n",
    "\n",
    "plt.show()"
   ]
  },
  {
   "cell_type": "markdown",
   "id": "1414d4ac",
   "metadata": {},
   "source": [
    "We can now fit this distribution using a circuit. To do so, we will build a fully factorized deterministic circuit over all the variables."
   ]
  },
  {
   "cell_type": "code",
   "execution_count": 7,
   "id": "d82596eb",
   "metadata": {},
   "outputs": [
    {
     "name": "stdout",
     "output_type": "stream",
     "text": [
      "LL([[1, 0, 1, 1, 1, 0, 1, 1, 1, 0]]) = -4.41e+00\n"
     ]
    }
   ],
   "source": [
    "import sys\n",
    "sys.path.insert(0, \"../\")\n",
    "\n",
    "from cirkit.templates.pgms import deterministic_fully_factorized\n",
    "import torch\n",
    "from cirkit.pipeline import PipelineContext\n",
    "\n",
    "device = \"cuda:0\"\n",
    "\n",
    "# construct the symbolic circuit\n",
    "s_circuit = deterministic_fully_factorized(NUM_VARIABLES)\n",
    "\n",
    "# compile it to a torch computational graph\n",
    "ctx = PipelineContext(backend=\"torch\", semiring=\"lse-sum\", fold=True, optimize=True)\n",
    "circuit = ctx.compile(s_circuit).to(device)\n",
    "\n",
    "# sanity check\n",
    "sanity_state = torch.randint(2, size=(1, NUM_VARIABLES), device=device)\n",
    "ll = circuit(sanity_state)\n",
    "print(f\"LL({sanity_state.tolist()}) = {ll.item():.2e}\")"
   ]
  },
  {
   "cell_type": "markdown",
   "id": "60cd6c93",
   "metadata": {},
   "source": [
    "And train the circuit on our dataset by MLE."
   ]
  },
  {
   "cell_type": "code",
   "execution_count": 8,
   "id": "1b4a7a52",
   "metadata": {},
   "outputs": [
    {
     "name": "stdout",
     "output_type": "stream",
     "text": [
      "Loss: 7.355436325073242\n",
      "Loss: 6.108637809753418\n",
      "Loss: 6.109638214111328\n",
      "Loss: 6.111535549163818\n"
     ]
    }
   ],
   "source": [
    "from torch.utils.data import TensorDataset, DataLoader\n",
    "from torch import optim\n",
    "\n",
    "dataset = TensorDataset(P_X)\n",
    "dataloader = DataLoader(dataset, shuffle=True, batch_size=256)\n",
    "\n",
    "num_epochs = 200\n",
    "running_loss = 0\n",
    "optimizer = optim.Adam(circuit.parameters(), lr=0.1)\n",
    "\n",
    "for epoch_idx in range(num_epochs):\n",
    "    for i, (batch,) in enumerate(dataloader):\n",
    "        # Compute the log-likelihoods of the batch, by evaluating the circuit\n",
    "        log_likelihoods = circuit(batch.to(device))\n",
    "\n",
    "        # We take the negated average log-likelihood as loss\n",
    "        loss = -torch.mean(log_likelihoods)\n",
    "        loss.backward()\n",
    "        # Update the parameters of the circuits, as any other model in PyTorch\n",
    "        optimizer.step()\n",
    "        optimizer.zero_grad()\n",
    "        \n",
    "        running_loss += loss * len(batch)\n",
    "\n",
    "\n",
    "    if (epoch_idx % 50) == 0:\n",
    "        print(f\"Loss: {running_loss / len(dataset)}\")\n",
    "    running_loss = 0"
   ]
  },
  {
   "cell_type": "markdown",
   "id": "5cead4e5",
   "metadata": {},
   "source": [
    "We can compute the MAP state using brute-force -- i.e. we enumerate all the possible variable assignments and take the one with maximum likelihood."
   ]
  },
  {
   "cell_type": "code",
   "execution_count": 15,
   "id": "2105e3f6",
   "metadata": {},
   "outputs": [
    {
     "name": "stdout",
     "output_type": "stream",
     "text": [
      "MAP state: [1, 1, 1, 1, 1, 1, 1, 1, 0, 0]\n"
     ]
    }
   ],
   "source": [
    "from itertools import product\n",
    "\n",
    "assignments = torch.tensor(list(product(*([[0, 1]] * NUM_VARIABLES))), device=device)\n",
    "assignments_l = circuit(assignments)\n",
    "\n",
    "# take the assignment with maximum likelihood\n",
    "map_state = assignments[assignments_l.argmax()]\n",
    "\n",
    "print(\"MAP state:\", map_state.tolist())"
   ]
  },
  {
   "cell_type": "markdown",
   "id": "f9554fc1",
   "metadata": {},
   "source": [
    "or more efficiently, we can do obtain the same state in linear time by running a map query."
   ]
  },
  {
   "cell_type": "code",
   "execution_count": 16,
   "id": "62a33919",
   "metadata": {},
   "outputs": [
    {
     "name": "stdout",
     "output_type": "stream",
     "text": [
      "MAP state: [1, 1, 1, 1, 1, 1, 1, 1, 0, 0]\n"
     ]
    }
   ],
   "source": [
    "from cirkit.backend.torch.queries import MAPQuery\n",
    "\n",
    "map_query = MAPQuery(circuit)\n",
    "_, map_state = map_query()\n",
    "print(\"MAP state:\", map_state[0].tolist())"
   ]
  },
  {
   "cell_type": "markdown",
   "id": "186f5b86",
   "metadata": {},
   "source": [
    "We can also provide evidences and compute the MAP state with respect to those evidence in `cirkit`"
   ]
  },
  {
   "cell_type": "code",
   "execution_count": 19,
   "id": "1cdd3a40",
   "metadata": {},
   "outputs": [
    {
     "name": "stdout",
     "output_type": "stream",
     "text": [
      "MAP state: [1, 1, 1, 1, 1, 1, 1, 1, 0, 0]\n"
     ]
    }
   ],
   "source": [
    "# specify evidence: set the first variable to true\n",
    "e = torch.tensor([[1, 0, 0, 0, 0, 0, 0, 0, 0, 0]], device=device)\n",
    "\n",
    "# specify that only the first variable should be considered as evidence\n",
    "# the other entries in the tensor can be ignored\n",
    "is_evidence = torch.tensor([[1, 0, 0, 0, 0, 0, 0, 0, 0, 0]], device=device).bool()\n",
    "map_value, map_state = map_query(x=e, evidence_vars=is_evidence)\n",
    "\n",
    "print(\"MAP state:\", map_state[0].tolist())"
   ]
  },
  {
   "cell_type": "markdown",
   "id": "2b503416",
   "metadata": {},
   "source": [
    "#### Approximate MAP\n",
    "\n",
    "Notice that the circuit does not achieve a very good negative log likelihood. This is because determinism reduces the expressivity of the PC. We can overcome this limitation by overparameterizing the circuit. We will still be able to use the same algorithm to compute MAP, but we will obtain an approximation instead of an exact solution.\n",
    "\n",
    "Let's see how good the approximation by building an overparameterized deep fully factorized circuit"
   ]
  },
  {
   "cell_type": "code",
   "execution_count": 21,
   "id": "3e06f717",
   "metadata": {},
   "outputs": [
    {
     "name": "stdout",
     "output_type": "stream",
     "text": [
      "LL([[1, 1, 0, 0, 0, 1, 0, 1, 1, 0]]) = -6.77e+00\n"
     ]
    }
   ],
   "source": [
    "from cirkit.templates.pgms import overparameterized_deep_fully_factorized\n",
    "\n",
    "# construct the overparameterized symbolic circuit\n",
    "s_circuit = overparameterized_deep_fully_factorized(NUM_VARIABLES, num_units=64)\n",
    "# compile it to a torch computational graph\n",
    "circuit = ctx.compile(s_circuit).to(device)\n",
    "\n",
    "# sanity check\n",
    "sanity_state = torch.randint(2, size=(1, NUM_VARIABLES), device=device)\n",
    "ll = circuit(sanity_state)\n",
    "print(f\"LL({sanity_state.tolist()}) = {ll.item():.2e}\")"
   ]
  },
  {
   "cell_type": "markdown",
   "id": "6ff56697",
   "metadata": {},
   "source": [
    "and train it using MLE"
   ]
  },
  {
   "cell_type": "code",
   "execution_count": 22,
   "id": "ed39e87a",
   "metadata": {},
   "outputs": [
    {
     "name": "stdout",
     "output_type": "stream",
     "text": [
      "Loss: 6.566507816314697\n",
      "Loss: 5.965258598327637\n",
      "Loss: 5.79910945892334\n",
      "Loss: 5.74826192855835\n"
     ]
    }
   ],
   "source": [
    "running_loss = 0\n",
    "optimizer = optim.Adam(circuit.parameters(), lr=0.1)\n",
    "for epoch_idx in range(num_epochs):\n",
    "    for i, (batch,) in enumerate(dataloader):\n",
    "        # Compute the log-likelihoods of the batch, by evaluating the circuit\n",
    "        log_likelihoods = circuit(batch.to(device))\n",
    "\n",
    "        # We take the negated average log-likelihood as loss\n",
    "        loss = -torch.mean(log_likelihoods)\n",
    "        loss.backward()\n",
    "        # Update the parameters of the circuits, as any other model in PyTorch\n",
    "        optimizer.step()\n",
    "        optimizer.zero_grad()\n",
    "        \n",
    "        running_loss += loss * len(batch)\n",
    "\n",
    "\n",
    "    if (epoch_idx % 50) == 0:\n",
    "        print(f\"Loss: {running_loss / len(dataset)}\")\n",
    "    running_loss = 0"
   ]
  },
  {
   "cell_type": "markdown",
   "id": "e1014a72",
   "metadata": {},
   "source": [
    "Overparameterizing improves the negative log likelihood. But how close is the approximation?"
   ]
  },
  {
   "cell_type": "code",
   "execution_count": 24,
   "id": "74c7fb3a",
   "metadata": {},
   "outputs": [
    {
     "name": "stdout",
     "output_type": "stream",
     "text": [
      "Exact MAP state: [1, 1, 0, 1, 1, 1, 0, 1, 0, 0]\n"
     ]
    }
   ],
   "source": [
    "assignments = torch.tensor(list(product(*([[0, 1]] * NUM_VARIABLES))), device=device)\n",
    "assignments_l = circuit(assignments)\n",
    "\n",
    "# take the assignment with maximum likelihood\n",
    "map_state = assignments[assignments_l.argmax()]\n",
    "\n",
    "print(\"Exact MAP state:\", map_state.tolist())"
   ]
  },
  {
   "cell_type": "code",
   "execution_count": 25,
   "id": "47a7b84e",
   "metadata": {},
   "outputs": [
    {
     "name": "stdout",
     "output_type": "stream",
     "text": [
      "Approximate MAP state: [0, 1, 1, 1, 0, 1, 0, 1, 0, 0]\n"
     ]
    }
   ],
   "source": [
    "from cirkit.backend.torch.queries import MAPQuery\n",
    "\n",
    "map_query = MAPQuery(circuit)\n",
    "map_value, map_state = map_query()\n",
    "print(\"Approximate MAP state:\", map_state[0].tolist())"
   ]
  },
  {
   "cell_type": "markdown",
   "id": "6ee1d9b4",
   "metadata": {},
   "source": [
    "Indeed, the MAP state is different from the exact MAP state. Intuitively, determinism constrains the circuit to make unambigous decisions on the value of a variable. When it is removed, we might make decisions that are locally optimal but end up in a state that is not globally optimal.\n",
    "\n",
    "Given the expressivity loss, approximate MAP is the best we can do if we want to model complex datasets. On our simple synthetic case the difference is noticeable but what about more complex, real-world looking domain?\n",
    "\n",
    "For instance, let's try to model a simplified version of MNIST, where we down-scale images to $7 \\times 7$ images. In this way, we can use a smaller PC which is faster to train."
   ]
  },
  {
   "cell_type": "code",
   "execution_count": 26,
   "id": "9a9af0c1",
   "metadata": {},
   "outputs": [
    {
     "data": {
      "image/png": "[encoded data removed]",
      "text/plain": [
       "<Figure size 650x650 with 100 Axes>"
      ]
     },
     "metadata": {},
     "output_type": "display_data"
    }
   ],
   "source": [
    "from torch import optim\n",
    "from torch.utils.data import DataLoader\n",
    "from torchvision import transforms, datasets\n",
    "\n",
    "# Load the MNIST data set and rescale images\n",
    "transform = transforms.Compose([\n",
    "    # resize to 5x5\n",
    "    transforms.Resize((7, 7)),\n",
    "    transforms.ToTensor(),\n",
    "    # Flatten the images and set pixel values in the [0-255] range\n",
    "    transforms.Lambda(lambda x: (255 * x.view(-1)).long())\n",
    "])\n",
    "data_train = datasets.MNIST('datasets', train=True, download=True, transform=transform)\n",
    "data_test = datasets.MNIST('datasets', train=False, download=True, transform=transform)\n",
    "\n",
    "\n",
    "fig, axs = plt.subplots(10, 10, figsize=(6.5, 6.5))\n",
    "\n",
    "for i in range(10):\n",
    "    i_targets = torch.where(data_train.targets == i)[0]\n",
    "\n",
    "    for j in range(10):\n",
    "        axs[i, j].imshow(data_train[i_targets[j].item()][0].detach().cpu().numpy().reshape(7, 7), cmap=\"grey\", vmin=0, vmax=255)\n",
    "        axs[i, j].axis(\"off\")\n",
    "\n",
    "fig.tight_layout()"
   ]
  },
  {
   "cell_type": "markdown",
   "id": "a83cd10f",
   "metadata": {},
   "source": [
    "We will construct the circuit as a QuadGraph and overparameterize it with $64$ units for each sum and each input."
   ]
  },
  {
   "cell_type": "code",
   "execution_count": 27,
   "id": "a73521a9",
   "metadata": {},
   "outputs": [
    {
     "name": "stdout",
     "output_type": "stream",
     "text": [
      "1.54M trainable parameters\n"
     ]
    }
   ],
   "source": [
    "from cirkit.templates import data_modalities, utils\n",
    "\n",
    "# construct the quad graph circuit\n",
    "symbolic_circuit = data_modalities.image_data(\n",
    "    (1, 7, 7),                  \n",
    "    region_graph='quad-graph',  \n",
    "    input_layer='categorical',  \n",
    "    num_input_units=64,         \n",
    "    sum_product_layer='cp',     \n",
    "    num_sum_units=64,           \n",
    "    sum_weight_param=utils.Parameterization(activation='softmax', initialization='normal')\n",
    ")\n",
    "\n",
    "# compile it as usual\n",
    "# NOTE: using compiler's optimization is not implemented yet for MAP\n",
    "ctx = PipelineContext(semiring=\"lse-sum\", fold=True)\n",
    "circuit = ctx.compile(symbolic_circuit).to(device)\n",
    "\n",
    "print(f\"{(sum(p.numel() for p in circuit.parameters()) / 1e6):.2f}M trainable parameters\")"
   ]
  },
  {
   "cell_type": "markdown",
   "id": "972b7678",
   "metadata": {},
   "source": [
    "As usual, we learn the data by MLE"
   ]
  },
  {
   "cell_type": "code",
   "execution_count": 28,
   "id": "f4b71ffa",
   "metadata": {},
   "outputs": [
    {
     "name": "stdout",
     "output_type": "stream",
     "text": [
      "Epoch: 0 | Average NLL: 146.3586883544922\n",
      "Epoch: 1 | Average NLL: 130.4117889404297\n",
      "Epoch: 2 | Average NLL: 127.77218627929688\n",
      "Epoch: 3 | Average NLL: 126.47338104248047\n",
      "Epoch: 4 | Average NLL: 125.61649322509766\n",
      "Epoch: 5 | Average NLL: 125.1173324584961\n",
      "Epoch: 6 | Average NLL: 124.7509536743164\n",
      "Epoch: 7 | Average NLL: 124.42790985107422\n",
      "Epoch: 8 | Average NLL: 124.14564514160156\n",
      "Epoch: 9 | Average NLL: 123.93098449707031\n"
     ]
    }
   ],
   "source": [
    "# Instantiate the training and testing data loaders\n",
    "train_dataloader = DataLoader(data_train, shuffle=True, batch_size=256)\n",
    "test_dataloader = DataLoader(data_test, shuffle=False, batch_size=256)\n",
    "\n",
    "# Initialize a torch optimizer of your choice,\n",
    "#  e.g., Adam, by passing the parameters of the circuit\n",
    "optimizer = optim.Adam(circuit.parameters(), lr=0.1)\n",
    "\n",
    "num_epochs = 10\n",
    "step_idx = 0\n",
    "running_loss = 0.0\n",
    "running_samples = 0\n",
    "\n",
    "# Move the circuit to chosen device\n",
    "circuit = circuit.to(device)\n",
    "\n",
    "for epoch_idx in range(num_epochs):\n",
    "    for i, (batch, _) in enumerate(train_dataloader):\n",
    "        # The circuit expects an input of shape (batch_dim, num_variables)\n",
    "        batch = batch.to(device)\n",
    "\n",
    "        # Compute the log-likelihoods of the batch, by evaluating the circuit\n",
    "        log_likelihoods = circuit(batch)\n",
    "\n",
    "        # We take the negated average log-likelihood as loss\n",
    "        loss = -1 * torch.mean(log_likelihoods)\n",
    "        loss.backward()\n",
    "        # Update the parameters of the circuits, as any other model in PyTorch\n",
    "        optimizer.step()\n",
    "        optimizer.zero_grad()\n",
    "        running_loss += loss.detach() * len(batch)\n",
    "        running_samples += len(batch)\n",
    "        step_idx += 1\n",
    "        \n",
    "    average_nll = running_loss / running_samples\n",
    "    print(f\"Epoch: {epoch_idx} | Average NLL: {average_nll}\")\n",
    "    running_loss = 0.0\n",
    "    running_samples = 0"
   ]
  },
  {
   "cell_type": "markdown",
   "id": "49cf470c",
   "metadata": {},
   "source": [
    "We will now exploit the circuit to reconstruct the images. We will erase half of the image and use the other half as evidence to the MAP query.\n",
    "Notice that we take images from the **testing set**. The circuit never saw those images during training."
   ]
  },
  {
   "cell_type": "code",
   "execution_count": 29,
   "id": "c53bb400",
   "metadata": {},
   "outputs": [
    {
     "data": {
      "image/png": "[encoded data removed]",
      "text/plain": [
       "<Figure size 400x600 with 12 Axes>"
      ]
     },
     "metadata": {},
     "output_type": "display_data"
    }
   ],
   "source": [
    "# For convenience, move the circuit to cpu during inference\n",
    "circuit = circuit.to(\"cpu\")\n",
    "\n",
    "# prepare the map query on the circuit\n",
    "map_query = MAPQuery(circuit)\n",
    "map_value, map_state = map_query()\n",
    "\n",
    "# select the images to erase\n",
    "sample_idxs = [1, 5, 10, 1000]\n",
    "fig, axs = plt.subplots(len(sample_idxs), 3, figsize=(4, 1.5 * len(sample_idxs)))\n",
    "for i, s_idx in enumerate(sample_idxs):\n",
    "    # take images from the testing set\n",
    "    sample = data_test[s_idx][0].unsqueeze(0)\n",
    "    \n",
    "    # select the variables used as evidence\n",
    "    evidence_vars = torch.full_like(sample, 0)\n",
    "    evidence_vars[:, sample.shape[1] // 2:] = 1\n",
    "    evidence_vars = evidence_vars.bool()\n",
    "    evidence = sample.clone()\n",
    "    evidence[~evidence_vars] = 0\n",
    "\n",
    "    axs[i, 0].set_title(f\"Target sample\")\n",
    "    axs[i, 0].imshow(sample.detach().cpu().numpy().reshape(7, 7), cmap=\"grey\", vmin=0, vmax=255)\n",
    "    axs[i, 0].axis(\"off\")\n",
    "\n",
    "    axs[i, 1].set_title(\"Evidence\")\n",
    "    axs[i, 1].imshow(evidence.detach().cpu().numpy().reshape(7, 7), cmap=\"grey\", vmin=0, vmax=255)\n",
    "    axs[i, 1].axis(\"off\")\n",
    "\n",
    "    # compute the image reconstruction\n",
    "    map_val, map_state = map_query(\n",
    "        x=evidence.to(circuit.device), \n",
    "        evidence_vars=evidence_vars.bool().to(circuit.device)\n",
    "    )\n",
    "\n",
    "    axs[i, 2].set_title(f\"MAP w/ evidence\")\n",
    "    axs[i, 2].imshow(map_state.detach().cpu().numpy().reshape(7, 7), cmap=\"grey\", vmin=0, vmax=255)\n",
    "    axs[i, 2].axis(\"off\")\n",
    "\n",
    "fig.tight_layout()"
   ]
  },
  {
   "cell_type": "markdown",
   "id": "6feba280",
   "metadata": {},
   "source": [
    "The reconstructions are surprisingly accurate for a model with only 1.5 Million parameters! Of course, using more expressive models (i.e. by using an higher number of parameters) could result in more accurate performances."
   ]
  }
 ],
 "metadata": {
  "kernelspec": {
   "display_name": "cirkit",
   "language": "python",
   "name": "python3"
  },
  "language_info": {
   "codemirror_mode": {
    "name": "ipython",
    "version": 3
   },
   "file_extension": ".py",
   "mimetype": "text/x-python",
   "name": "python",
   "nbconvert_exporter": "python",
   "pygments_lexer": "ipython3",
   "version": "3.12.0"
  }
 },
 "nbformat": 4,
 "nbformat_minor": 5
}
