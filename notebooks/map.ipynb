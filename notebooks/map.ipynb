{
 "cells": [
  {
   "cell_type": "markdown",
   "id": "e1e6d6b9",
   "metadata": {},
   "source": [
    "# Tractably compute Maximum a Posteriori"
   ]
  },
  {
   "cell_type": "markdown",
   "id": "b7bf2b04-012a-4d5f-8700-39e848f6b2c9",
   "metadata": {},
   "source": [
    "Consider the case where we have $N$ binary variables $\\mathbf{X}$ distributed according to uknown probability distribution $P(\\mathbf{X})$ and we have a dataset $\\mathcal{D}$ where a datapoint $d^{(i)} \\in \\mathcal{D}$ is distributed according to $P(\\mathbf{X})$.\n",
    "\n",
    "For example, $d^{(i)}$ could be a binary vector from a multi-label classification task, representing whether an object is present on an image or not.\n",
    "\n",
    "We want to model the distribution $P(\\mathbf{X})$ from the observations $\\mathcal{D}$ and we want to know which is the most probable assignment. In the image example, which is the combination of objects that is most-likely to appear in the image.\n",
    "\n",
    "To do so, we have to execute a MAP query on the distribution $P(\\mathbf{X})$, which allows us to retrieve its most probable state.\n",
    "\n",
    "We can do this by modeling $P(\\mathbf{X})$ using a smooth, decomposable and deterministic circuit. Let's first build such a circuit that fully-factorizes the $N$ variables in `cirkit`."
   ]
  },
  {
   "cell_type": "code",
   "execution_count": 1,
   "id": "d82596eb",
   "metadata": {},
   "outputs": [],
   "source": [
    "# set the number of variables to 10\n",
    "variables = list(range(10))"
   ]
  },
  {
   "cell_type": "markdown",
   "id": "71c72a18",
   "metadata": {},
   "source": [
    "*circuit construction to be moved into a template*"
   ]
  },
  {
   "cell_type": "code",
   "execution_count": 3,
   "id": "c37354ab",
   "metadata": {},
   "outputs": [],
   "source": [
    "import sys\n",
    "sys.path.insert(0, \"../\")\n",
    "\n",
    "\n",
    "from cirkit.symbolic.layers import SumLayer, HadamardLayer, CategoricalLayer\n",
    "from cirkit.symbolic.circuit import Circuit\n",
    "from cirkit.symbolic.parameters import Parameter, ConstantParameter, SoftmaxParameter, TensorParameter, IndexParameter\n",
    "from cirkit.symbolic.initializers import NormalInitializer\n",
    "\n",
    "from cirkit.utils.scope import Scope\n",
    "import numpy as np\n",
    "\n",
    "variables = list(range(10))\n",
    "\n",
    "nodes = []\n",
    "in_nodes = {}\n",
    "\n",
    "dense_weight_factory = lambda shape: Parameter.from_unary(\n",
    "    SoftmaxParameter(shape, axis=1),\n",
    "    TensorParameter(*shape, initializer=NormalInitializer()),\n",
    ")\n",
    "\n",
    "input_param_factory = lambda shape: Parameter.from_unary(\n",
    "    SoftmaxParameter(shape, axis=-1),\n",
    "    TensorParameter(*shape, initializer=NormalInitializer()),\n",
    ")\n",
    "\n",
    "v_i = 0\n",
    "node = None\n",
    "while v_i < len(variables):\n",
    "    pos_param = Parameter.from_input(ConstantParameter(1, 2, value=np.array([[0.0, 1.0]])))\n",
    "    pos_v_i = CategoricalLayer(Scope([v_i]), 1, num_categories=2, probs=pos_param)\n",
    "    \n",
    "    neg_param = Parameter.from_input(ConstantParameter(1, 2, value=np.array([[1.0, 0.0]])))\n",
    "    neg_v_i = CategoricalLayer(Scope([v_i]), 1, num_categories=2, probs=neg_param)\n",
    "    \n",
    "    nodes.extend([pos_v_i, neg_v_i])\n",
    "\n",
    "    if node is None:\n",
    "        node = SumLayer(1, 1, 2, weight_factory=dense_weight_factory)\n",
    "        nodes.append(node)\n",
    "        in_nodes[node] = [pos_v_i, neg_v_i]\n",
    "    else:\n",
    "        l_child = HadamardLayer(1, 2)\n",
    "        nodes.append(l_child)\n",
    "        in_nodes[l_child] = [pos_v_i, node]\n",
    "\n",
    "        r_child = HadamardLayer(1, 2)\n",
    "        nodes.append(r_child)\n",
    "        in_nodes[r_child] = [neg_v_i, node]\n",
    "\n",
    "        node = SumLayer(1, 1, 2, weight_factory=dense_weight_factory)\n",
    "        nodes.append(node)\n",
    "        in_nodes[node] = [l_child, r_child]\n",
    "\n",
    "    v_i += 1\n",
    "\n",
    "s_circuit = Circuit(nodes, in_nodes, outputs=[node])"
   ]
  },
  {
   "cell_type": "code",
   "execution_count": 5,
   "id": "ee62c848",
   "metadata": {},
   "outputs": [
    {
     "data": {
      "text/plain": [
       "tensor([[[-7.0033]],\n",
       "\n",
       "        [[-9.1698]],\n",
       "\n",
       "        [[-8.0432]]], grad_fn=<TransposeBackward0>)"
      ]
     },
     "execution_count": 5,
     "metadata": {},
     "output_type": "execute_result"
    }
   ],
   "source": [
    "import torch\n",
    "from cirkit.pipeline import PipelineContext\n",
    "\n",
    "ctx = PipelineContext(backend=\"torch\", semiring=\"lse-sum\", fold=False, optimize=False)\n",
    "circuit = ctx.compile(s_circuit)\n",
    "\n",
    "circuit(torch.randint(2, size=(3, len(variables))))"
   ]
  },
  {
   "cell_type": "markdown",
   "id": "96321c46",
   "metadata": {},
   "source": [
    "Let's create some synthetic data to simulate our use case. We set $P(\\mathbf{X}) \\sim Cat(N, \\mathbf{p})$ with \n",
    "\n",
    "$$x_i \\sim \\begin{cases}\n",
    "3 \\\\\n",
    "\\mathcal{U}(0, 1) & \\text{otherwise} \\\\\n",
    "\\end{cases}$$\n",
    "\n",
    "and $\\mathbf{p} = softmax([x_0, \\cdots, x_N])$.\n",
    "\n",
    "The resulting distribution places most of the probability mass to the fourth variable (counting from 0)."
   ]
  },
  {
   "cell_type": "code",
   "execution_count": 6,
   "id": "e5773d50",
   "metadata": {},
   "outputs": [
    {
     "data": {
      "image/png": "[encoded data removed]",
      "text/plain": [
       "<Figure size 700x200 with 2 Axes>"
      ]
     },
     "metadata": {},
     "output_type": "display_data"
    }
   ],
   "source": [
    "import torch.distributions as D\n",
    "import torch.nn.functional as F\n",
    "import matplotlib.pyplot as plt\n",
    "\n",
    "\n",
    "data_p = torch.rand(len(variables))\n",
    "data_p[3] = 3\n",
    "data_p = data_p.softmax(dim=-1)\n",
    "train_P_X = D.OneHotCategorical(probs=data_p).sample(sample_shape=torch.tensor([1000,]))\n",
    "test_P_X = D.OneHotCategorical(probs=data_p).sample(sample_shape=torch.tensor([300,]))\n",
    "\n",
    "fig, axs = plt.subplots(1, 2, figsize=(7, 2))\n",
    "\n",
    "_, train_count = train_P_X.argmax(dim=-1).unique(return_counts=True)\n",
    "_, test_count = test_P_X.argmax(dim=-1).unique(return_counts=True)\n",
    "\n",
    "axs[0].bar([str(v) for v in variables], train_count)\n",
    "axs[0].set_xlabel(\"Variables\")\n",
    "axs[0].set_ylabel(\"Number of samples\")\n",
    "axs[0].set_title(r\"$P(\\mathbf{X})$ on train data\")\n",
    "\n",
    "axs[1].bar([str(v) for v in variables], test_count)\n",
    "axs[1].set_xlabel(\"Variables\")\n",
    "axs[1].set_ylim(*axs[0].get_ylim())\n",
    "axs[1].set_title(r\"$P(\\mathbf{X})$ on test data\")\n",
    "plt.show()"
   ]
  },
  {
   "cell_type": "markdown",
   "id": "ea854107",
   "metadata": {},
   "source": [
    "Let's train the circuit on this dataset."
   ]
  },
  {
   "cell_type": "code",
   "execution_count": 8,
   "id": "1b4a7a52",
   "metadata": {},
   "outputs": [
    {
     "name": "stdout",
     "output_type": "stream",
     "text": [
      "Loss: 4.154376983642578\n",
      "Loss: 7.512113094329834\n",
      "Loss: 11.122591972351074\n",
      "Loss: 14.499314308166504\n",
      "Loss: 17.440330505371094\n",
      "Loss: 20.18540382385254\n",
      "Loss: 22.83731460571289\n",
      "Loss: 25.48277473449707\n",
      "Loss: 28.0847225189209\n",
      "Loss: 30.676956176757812\n",
      "Loss: 33.250328063964844\n",
      "Loss: 35.81651306152344\n",
      "Loss: 38.38248062133789\n",
      "Loss: 40.93368911743164\n",
      "Loss: 43.496028900146484\n",
      "Loss: 46.03678894042969\n",
      "Loss: 48.58936309814453\n",
      "Loss: 51.137699127197266\n",
      "Loss: 53.68446731567383\n",
      "Loss: 56.235862731933594\n",
      "Loss: 58.78200149536133\n",
      "Loss: 61.322174072265625\n",
      "Loss: 63.87406921386719\n",
      "Loss: 66.42188262939453\n",
      "Loss: 68.96138763427734\n",
      "Loss: 71.50579833984375\n",
      "Loss: 74.04815673828125\n",
      "Loss: 76.59158325195312\n",
      "Loss: 79.1399917602539\n",
      "Loss: 81.68509674072266\n",
      "Loss: 84.23103332519531\n",
      "Loss: 86.78118133544922\n",
      "Loss: 89.32804107666016\n",
      "Loss: 91.87629699707031\n",
      "Loss: 94.42369842529297\n",
      "Loss: 96.96971893310547\n",
      "Loss: 99.52041625976562\n",
      "Loss: 102.06975555419922\n",
      "Loss: 104.61616516113281\n",
      "Loss: 107.1668701171875\n",
      "Loss: 109.7223129272461\n",
      "Loss: 112.27735900878906\n",
      "Loss: 114.8303451538086\n",
      "Loss: 117.37487030029297\n",
      "Loss: 119.9261474609375\n",
      "Loss: 122.46800231933594\n",
      "Loss: 125.0130844116211\n",
      "Loss: 127.56487274169922\n",
      "Loss: 130.11521911621094\n",
      "Loss: 132.66758728027344\n"
     ]
    }
   ],
   "source": [
    "from torch.utils.data import TensorDataset, DataLoader\n",
    "from torch import optim\n",
    "\n",
    "data_train = TensorDataset(train_P_X)\n",
    "train_dataloader = DataLoader(data_train, shuffle=True, batch_size=256)\n",
    "\n",
    "data_test = TensorDataset(test_P_X)\n",
    "test_dataloader = DataLoader(data_test, shuffle=False, batch_size=256)\n",
    "\n",
    "num_epochs = 50\n",
    "running_loss = 0\n",
    "optimizer = optim.Adam(circuit.parameters(), lr=0.9)\n",
    "\n",
    "for epoch_idx in range(num_epochs):\n",
    "    for i, (batch,) in enumerate(train_dataloader):\n",
    "        # Compute the log-likelihoods of the batch, by evaluating the circuit\n",
    "        log_likelihoods = circuit(batch)\n",
    "\n",
    "        # We take the negated average log-likelihood as loss\n",
    "        loss = -torch.mean(log_likelihoods)\n",
    "        loss.backward()\n",
    "        # Update the parameters of the circuits, as any other model in PyTorch\n",
    "        optimizer.step()\n",
    "        optimizer.zero_grad()\n",
    "        \n",
    "        running_loss += loss * len(batch)\n",
    "    print(f\"Loss: {running_loss / len(data_train)}\")"
   ]
  },
  {
   "cell_type": "markdown",
   "id": "5cead4e5",
   "metadata": {},
   "source": [
    "We can compute the MAP state using brute-force -- i.e. we enumerate all the possible variable assignments and take the one with maximum likelihood."
   ]
  },
  {
   "cell_type": "code",
   "execution_count": 26,
   "id": "2105e3f6",
   "metadata": {},
   "outputs": [
    {
     "name": "stdout",
     "output_type": "stream",
     "text": [
      "MAP state: tensor([0, 0, 0, 1, 0, 0, 0, 0, 0, 0])\n"
     ]
    }
   ],
   "source": [
    "from itertools import product\n",
    "\n",
    "assignments = torch.tensor(list(product(*([[0, 1]] * len(variables)))))\n",
    "assignments_l = circuit(assignments)\n",
    "\n",
    "# take the assignment with maximum likelihood\n",
    "map_state = assignments[assignments_l.argmax()]\n",
    "\n",
    "print(\"MAP state:\", map_state)"
   ]
  },
  {
   "cell_type": "markdown",
   "id": "2b503416",
   "metadata": {},
   "source": [
    "The circuit learned the right distribution: the most probable state is the fourth variable. Unfortunately, we have an exponential number of assignment in the number of variables, hence this approach is not sustainable. \n",
    "\n",
    "Since the circuit is smooth, decomposable and deterministic, however, we can perform this operation more efficiently in `cirkit`! Specifically, we can do it in linear time."
   ]
  },
  {
   "cell_type": "code",
   "execution_count": 29,
   "id": "47a7b84e",
   "metadata": {},
   "outputs": [
    {
     "name": "stdout",
     "output_type": "stream",
     "text": [
      "MAP state: tensor([[0, 0, 0, 1, 0, 0, 0, 0, 0, 0]])\n"
     ]
    }
   ],
   "source": [
    "from cirkit.backend.torch.queries import MAPQuery\n",
    "\n",
    "map_query = MAPQuery(circuit)\n",
    "map_state = map_query()\n",
    "print(\"MAP state:\", map_state)"
   ]
  }
 ],
 "metadata": {
  "kernelspec": {
   "display_name": "cirkit",
   "language": "python",
   "name": "python3"
  },
  "language_info": {
   "codemirror_mode": {
    "name": "ipython",
    "version": 3
   },
   "file_extension": ".py",
   "mimetype": "text/x-python",
   "name": "python",
   "nbconvert_exporter": "python",
   "pygments_lexer": "ipython3",
   "version": "3.12.0"
  }
 },
 "nbformat": 4,
 "nbformat_minor": 5
}
