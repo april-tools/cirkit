{
 "cells": [
  {
   "cell_type": "markdown",
   "id": "e1e6d6b9",
   "metadata": {},
   "source": [
    "# Tractably compute Maximum a Posteriori"
   ]
  },
  {
   "cell_type": "markdown",
   "id": "b7bf2b04-012a-4d5f-8700-39e848f6b2c9",
   "metadata": {},
   "source": [
    "Consider the case where we have $N$ binary variables $\\mathbf{X}$ distributed according to uknown probability distribution $P(\\mathbf{X})$ and we have a dataset $\\mathcal{D}$ where a datapoint $d^{(i)} \\in \\mathcal{D}$ is distributed according to $P(\\mathbf{X})$.\n",
    "\n",
    "For example, $d^{(i)}$ could be a binary vector from a multi-label classification task, representing whether an object is present on an image or not.\n",
    "\n",
    "We want to model the distribution $P(\\mathbf{X})$ from the observations $\\mathcal{D}$ and we want to know which is the most probable assignment. In the image example, which is the combination of objects that is most-likely to appear in the image.\n",
    "\n",
    "To do so, we have to execute a MAP query on the distribution $P(\\mathbf{X})$, which allows us to retrieve its most probable state.\n",
    "\n",
    "We can do this by modeling $P(\\mathbf{X})$ using a smooth, decomposable and deterministic circuit. Let's first build such a circuit that fully-factorizes the $N$ variables in `cirkit`."
   ]
  },
  {
   "cell_type": "code",
   "execution_count": 27,
   "id": "d82596eb",
   "metadata": {},
   "outputs": [],
   "source": [
    "import sys\n",
    "sys.path.insert(0, \"../\")\n",
    "\n",
    "from cirkit.templates.pgms import deterministic_fully_factorized\n",
    "\n",
    "num_variables = 10\n",
    "\n",
    "s_circuit = deterministic_fully_factorized(num_variables)"
   ]
  },
  {
   "cell_type": "code",
   "execution_count": 33,
   "id": "ee62c848",
   "metadata": {},
   "outputs": [
    {
     "data": {
      "text/plain": [
       "tensor([[[1.5298e-04]],\n",
       "\n",
       "        [[1.5142e-06]],\n",
       "\n",
       "        [[8.5994e-05]]], grad_fn=<TransposeBackward0>)"
      ]
     },
     "execution_count": 33,
     "metadata": {},
     "output_type": "execute_result"
    }
   ],
   "source": [
    "import torch\n",
    "from cirkit.pipeline import PipelineContext\n",
    "\n",
    "ctx = PipelineContext(backend=\"torch\", semiring=\"sum-product\", fold=True, optimize=True)\n",
    "circuit = ctx.compile(s_circuit)\n",
    "\n",
    "circuit(torch.randint(2, size=(3, num_variables)))"
   ]
  },
  {
   "cell_type": "markdown",
   "id": "96321c46",
   "metadata": {},
   "source": [
    "Let's create some synthetic data to simulate our use case. We set $P(\\mathbf{X}) \\sim Cat(N, \\mathbf{p})$ with \n",
    "\n",
    "$$x_i \\sim \\begin{cases}\n",
    "3 \\\\\n",
    "\\mathcal{U}(0, 1) & \\text{otherwise} \\\\\n",
    "\\end{cases}$$\n",
    "\n",
    "and $\\mathbf{p} = softmax([x_0, \\cdots, x_N])$.\n",
    "\n",
    "The resulting distribution places most of the probability mass to the fourth variable (counting from 0)."
   ]
  },
  {
   "cell_type": "code",
   "execution_count": 34,
   "id": "e5773d50",
   "metadata": {},
   "outputs": [
    {
     "data": {
      "image/png": "[encoded data removed]",
      "text/plain": [
       "<Figure size 700x200 with 2 Axes>"
      ]
     },
     "metadata": {},
     "output_type": "display_data"
    }
   ],
   "source": [
    "import torch.distributions as D\n",
    "import torch.nn.functional as F\n",
    "import matplotlib.pyplot as plt\n",
    "\n",
    "data_p = torch.rand(num_variables)\n",
    "data_p[3] = 2\n",
    "data_p[4] = 1.8\n",
    "data_p = data_p.softmax(dim=-1)\n",
    "\n",
    "train_P_X = D.OneHotCategorical(probs=data_p).sample(sample_shape=torch.tensor([1000,]))\n",
    "test_P_X = D.OneHotCategorical(probs=data_p).sample(sample_shape=torch.tensor([300,]))\n",
    "\n",
    "fig, axs = plt.subplots(1, 2, figsize=(7, 2))\n",
    "\n",
    "_, train_count = train_P_X.argmax(dim=-1).unique(return_counts=True)\n",
    "_, test_count = test_P_X.argmax(dim=-1).unique(return_counts=True)\n",
    "\n",
    "axs[0].bar([str(v) for v in range(num_variables)], train_count)\n",
    "axs[0].set_xlabel(\"Variables\")\n",
    "axs[0].set_ylabel(\"Number of samples\")\n",
    "axs[0].set_title(r\"$P(\\mathbf{X})$ on train data\")\n",
    "\n",
    "axs[1].bar([str(v) for v in range(num_variables)], test_count)\n",
    "axs[1].set_xlabel(\"Variables\")\n",
    "axs[1].set_ylim(*axs[0].get_ylim())\n",
    "axs[1].set_title(r\"$P(\\mathbf{X})$ on test data\")\n",
    "plt.show()"
   ]
  },
  {
   "cell_type": "markdown",
   "id": "ea854107",
   "metadata": {},
   "source": [
    "Let's train the circuit on this dataset."
   ]
  },
  {
   "cell_type": "code",
   "execution_count": 35,
   "id": "1b4a7a52",
   "metadata": {},
   "outputs": [
    {
     "name": "stdout",
     "output_type": "stream",
     "text": [
      "Loss: -6.156013841973618e-05\n",
      "Loss: -0.2815084755420685\n",
      "Loss: -0.281794935464859\n",
      "Loss: -0.28188496828079224\n"
     ]
    }
   ],
   "source": [
    "from torch.utils.data import TensorDataset, DataLoader\n",
    "from torch import optim\n",
    "\n",
    "data_train = TensorDataset(train_P_X)\n",
    "train_dataloader = DataLoader(data_train, shuffle=True, batch_size=256)\n",
    "\n",
    "data_test = TensorDataset(test_P_X)\n",
    "test_dataloader = DataLoader(data_test, shuffle=False, batch_size=256)\n",
    "\n",
    "num_epochs = 200\n",
    "running_loss = 0\n",
    "optimizer = optim.Adam(circuit.parameters(), lr=0.1)\n",
    "\n",
    "for epoch_idx in range(num_epochs):\n",
    "    for i, (batch,) in enumerate(train_dataloader):\n",
    "        # Compute the log-likelihoods of the batch, by evaluating the circuit\n",
    "        log_likelihoods = circuit(batch)\n",
    "\n",
    "        # We take the negated average log-likelihood as loss\n",
    "        loss = -torch.mean(log_likelihoods)\n",
    "        loss.backward()\n",
    "        # Update the parameters of the circuits, as any other model in PyTorch\n",
    "        optimizer.step()\n",
    "        optimizer.zero_grad()\n",
    "        \n",
    "        running_loss += loss * len(batch)\n",
    "\n",
    "\n",
    "    if (epoch_idx % 50) == 0:\n",
    "        print(f\"Loss: {running_loss / len(data_train)}\")\n",
    "    running_loss = 0"
   ]
  },
  {
   "cell_type": "markdown",
   "id": "5cead4e5",
   "metadata": {},
   "source": [
    "We can compute the MAP state using brute-force -- i.e. we enumerate all the possible variable assignments and take the one with maximum likelihood."
   ]
  },
  {
   "cell_type": "code",
   "execution_count": 36,
   "id": "2105e3f6",
   "metadata": {},
   "outputs": [
    {
     "name": "stdout",
     "output_type": "stream",
     "text": [
      "MAP state: tensor([0, 0, 0, 1, 0, 0, 0, 0, 0, 0])\n"
     ]
    }
   ],
   "source": [
    "from itertools import product\n",
    "\n",
    "assignments = torch.tensor(list(product(*([[0, 1]] * num_variables))))\n",
    "assignments_l = circuit(assignments)\n",
    "\n",
    "# take the assignment with maximum likelihood\n",
    "map_state = assignments[assignments_l.argmax()]\n",
    "\n",
    "print(\"MAP state:\", map_state)"
   ]
  },
  {
   "cell_type": "markdown",
   "id": "2b503416",
   "metadata": {},
   "source": [
    "The circuit learned the right distribution: the most probable state is the fourth variable. Unfortunately, we have an exponential number of assignment in the number of variables, hence this approach is not sustainable. \n",
    "\n",
    "Since the circuit is smooth, decomposable and deterministic, however, we can perform this operation more efficiently in `cirkit`! Specifically, we can do it in linear time."
   ]
  },
  {
   "cell_type": "code",
   "execution_count": 37,
   "id": "47a7b84e",
   "metadata": {},
   "outputs": [
    {
     "name": "stdout",
     "output_type": "stream",
     "text": [
      "MAP state: tensor([[0, 0, 0, 1, 0, 0, 0, 0, 0, 0]])\n"
     ]
    }
   ],
   "source": [
    "from cirkit.backend.torch.queries import MAPQuery\n",
    "\n",
    "map_query = MAPQuery(circuit)\n",
    "map_state = map_query()\n",
    "print(\"MAP state:\", map_state)"
   ]
  },
  {
   "cell_type": "markdown",
   "id": "129554f1",
   "metadata": {},
   "source": [
    "We can also provide evidences and compute the MAP state with respect to those evidences. For instance, suppose we know that the first two variables are true and we want to compute the assignments to the remaining variables that maximizes the likelihood. In this case, since we have most of the probability mass on the fourth index we expect the resulting state to include that variable."
   ]
  },
  {
   "cell_type": "code",
   "execution_count": 41,
   "id": "a1882380",
   "metadata": {},
   "outputs": [
    {
     "name": "stdout",
     "output_type": "stream",
     "text": [
      "MAP state with evidence tensor([[1, 1, 0, 0, 0, 0, 0, 0, 0, 0]]) : tensor([[1, 1, 0, 1, 0, 0, 0, 0, 0, 0]])\n"
     ]
    }
   ],
   "source": [
    "e = torch.tensor([[1, 1, 0, 0, 0, 0, 0, 0, 0, 0]])\n",
    "is_e = torch.tensor([[1, 1, 0, 0, 0, 0, 0, 0, 0, 0]]).bool()\n",
    "map_state = map_query(x=e, evidence_vars=is_e)\n",
    "print(\"MAP state with evidence\", e, \":\", map_state)"
   ]
  }
 ],
 "metadata": {
  "kernelspec": {
   "display_name": "cirkit",
   "language": "python",
   "name": "python3"
  },
  "language_info": {
   "codemirror_mode": {
    "name": "ipython",
    "version": 3
   },
   "file_extension": ".py",
   "mimetype": "text/x-python",
   "name": "python",
   "nbconvert_exporter": "python",
   "pygments_lexer": "ipython3",
   "version": "3.12.0"
  }
 },
 "nbformat": 4,
 "nbformat_minor": 5
}
