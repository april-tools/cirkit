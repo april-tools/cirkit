{
 "cells": [
  {
   "cell_type": "markdown",
   "id": "f401baa9-1e28-4c51-925e-9a0ca7448973",
   "metadata": {},
   "source": [
    "# Notebook on Logic Circuits\n",
    "\n",
    "A Logic circuit (also called a Boolean circuit) is a graph-based representation of a propositional logic formula.\n",
    "[Propositional logic](https://en.wikipedia.org/wiki/Propositional_calculus) is the foundation of higher order logics, including First Order Logic.\n",
    "It deals with the manipulation and representation of propositions: i.e. a declarative fact that, assuming a [classic meaning truthness](https://en.wikipedia.org/wiki/Truth_value), can be either true or false.\n",
    "\n",
    "Propositions are represented as the combination of propositional variables (also called **literals**), generally indicated by lowercase letters $a, b, c$ etc. The combination is performed through the use of [logical connectives](https://en.wikipedia.org/wiki/Logical_connective). Different logical connectives arise from the combination of three base connectives, which are said to be functionally complete: $\\land$ (`AND`), $\\lor$ (`OR`) and $\\lnot$ (`NOT`). An example of propositional formula is $\\alpha = a \\land (b \\lor \\lnot c)$. Two special symbols are reserved to denote the value of truthness $\\top$ and falsity $\\bot$. \n",
    "\n",
    "Depending on the assingment to each literal, the propositional formula evaluates to a truth value. An assignment to the set of literals in a formula is called an interpretation. For instance, an assignment of $\\alpha$ is $\\mathcal{I} = \\{a, \\lnot b, \\lnot c \\}$, which means that $a$ is true, $b$ is false and $c$ is false.\n",
    "It is possible to indetify $2^{|\\psi|}$ interprations of a formula $\\psi$, with $|\\psi|$ the cardinality of the set of literals used by $\\psi$ -- i.e. each literal in $\\psi$ counted only once. For instance, the number of interpretations of $\\alpha$ is $2^3$.\n",
    "\n",
    "An interpretation is a model of a formula, written $\\mathcal{I} \\models \\alpha$, if it evaluates $\\alpha$ to true. The semantics used to evaluate a propositional formula is inductively defined based on the connectives $\\land$, $\\lor$ and $\\lnot$. The semantics of each connective is the usual one, i.e.:\n",
    "* $\\mathcal{I} \\models (a \\lor b)$ only if $\\mathcal{I}$ contains either $a$, $b$ or both;\n",
    "* $\\mathcal{I} \\models (a \\land b)$ only if $\\mathcal{I}$ contains both $a$ and $b$;\n",
    "* $\\mathcal{I} \\models (\\lnot a)$ only if $\\mathcal{I}$ contains $\\lnot a$.\n",
    "\n",
    "A formula that always evaluates to $\\top$ is called a tautology -- e.g. $a \\lor \\lnot a$.\n",
    "\n",
    "It follows that the set of models of a propositional formula is a subset of all the possible set of assignments to that formula. Evaluating whether an interpretation is a model of a formula, called *model checking*, is simple: it is sufficient to recursively evaluate the truth value of each element of a formula.\n",
    "For instance, checking whether $\\mathcal{I} \\models \\alpha$ is done evaluating $(b \\lor \\lnot c)$ first, which evaluates to $\\top$ since $\\mathcal{I} \\models (b \\lor \\lnot c)$ ($\\lnot c \\in \\mathcal{I}$), and replacing it in $\\alpha$, obtaining $\\alpha' = a \\land \\top$. Since $\\mathcal{I} \\models a$ ($a \\in \\mathcal{I}$) we obtain $\\alpha'' = \\top \\land \\top = \\top$ and conclude that $\\mathcal{I}$ is indeed a model of $\\alpha$.\n",
    "In other words, model checking is a tractable operation that can be performed in polytime [(Cook, 1971)](https://dl.acm.org/doi/10.1145/800157.805047).\n",
    "\n",
    "However, the number of models of a formula grow exponentially in the size of a formula. Checking whether at least one model exists for a propositional formula, i.e. checking if the formula is *satisfiable*, is a famous NP-complete problem [(Cook, 1971)](https://dl.acm.org/doi/10.1145/800157.805047).\n",
    "Sophisticated solvers have been proposed to solve this problem, which essentially boils down to searching for a model in the set of all possible interpretations. \n",
    "Even more complex is the task of *model counting*, which is coNP-complete [(Cook, 1971)](https://dl.acm.org/doi/10.1145/800157.805047).\n",
    "\n",
    "Both problems have numerous pragmatic applications. Satisfiability checking, for instance, can be used to find solutions to [constraint satisfaction problems](https://en.wikipedia.org/wiki/Constraint_satisfaction_problem), which has numerous applications including automated planning, resource allocation, type inference etc.\n",
    "\n",
    "On the other hand, model counting underpins the task of *weighted model counting* (WMC), which is the foundation of many probabilistic reasoning taks [(Chavira & Darwiche, 2008)](https://www.sciencedirect.com/science/article/pii/S0004370207001889).\n",
    "Weighted model counting is an extension of model counting in which each literal is assigned a weight. The weight of a model can be computed by aggregating the weights of the literals it is composed of.\n",
    "\n",
    "While satisfiability can be tackled through the use of specialized solvers, called *SAT solvers*, model counting is more difficult to tame using those tools. A SAT solver is essentially a search algorithm that exploits the structure and semantics of a propositional formula to explore the space of all the possible interpretation and find those that are also models for that formula. If one only wants to find a model for a formula, SAT solvers can efficiently perform this task. However, finding all models still requires traversing a possibly huge search space, which is not guaranteed to be performed efficiently.\n",
    "\n",
    "Luckily for us, model counting can be efficiently performed in polytime by **compiling** a propositional formula to a logic circuit and enforcing some structural properties on the circuit. This allows WMC to be computed in polynomial time as well. Moreover, it is possible to solve many other tasks by exploiting the structure of the circuit or by enforcing additional properties, such as checking for semantic equivalence between two formulas (i.e. they have the same set of models despite being syntactically different) or checking whether a formula is a tautology [(Darwiche & Marquis, 2002)](https://arxiv.org/pdf/1106.1819). \n",
    "\n",
    "As we will later, it is already possible to [implement this formula and evalute it using `cirkit`](#Compiling-a-propositional-formula). However, it is not possible to guarantee that the resulting circuit will allow WMC or other complex tasks efficiently. To do so, we have to rely on a compilation technique that enforces properties such as *smoothness*, *decomposability*, *determinism*, etc. A compilation technique compiles a propositional formula to a *target language*. Different target languages enforce different properties on the resulting circuit.\n",
    "\n",
    "Of course, there is a price to pay during the compilation phase. Generally, compilation techniques produce circuits that are larger than the original formula. They might include additional literals and create nested formulas to guarantee tractability. The resulting representation will be semantically equivalent to the input formula, but might be considerably bigger when represented as a tree. During the compilation phase, some nested formulas might be consistently re-used. In that case, the formula can be more efficiently represented using a DAG, by reusing those nodes."
   ]
  },
  {
   "cell_type": "markdown",
   "id": "91be2877",
   "metadata": {},
   "source": [
    "## [Compiling a propositional formula using `cirkit`](#Compiling-a-propositional-formula)\n",
    "\n",
    "As we said before, a propositional formula can be easily represented as a circuit with a tree-structure. For instance, $\\alpha$ presented before can be represented as the following tree:\n",
    "\n",
    "<img src=\"data:image/png;base64,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\">\n",
    "\n",
    "In order to implement this logic circuit in `cirkit` we first have to find a convenient way of processing literals using sums and products. This is possible through the use of [boolean ring](https://en.wikipedia.org/wiki/Boolean_ring), i.e. an algebraic structure that defines sums and multiplications between literals.\n",
    "\n",
    "Intuitively, if one assigns the value $1$ to true literals and $0$ to false literals it is easy to see that sums corresponds to the disjunction connective $\\lor$ and products to the conjunction operator $\\land$. For instance, consider the formula $\\phi = a \\land b$. The set of models of $\\phi$ is $MODS(\\phi) = \\{\\{a, b\\}\\}$ i.e. the model where $a$ and $b$ are assigned to true. Through the conversion we just explained, we would have that $\\hat{\\phi} = \\hat{a} \\cdot \\hat{b}$. Indeed, $\\hat{\\phi} = 1$ if and only if $a = b = 1$, which matches the definition we gave previously to the $\\land$ connective.\n",
    "\n",
    "Negation can be *\"factored out\"* by considering a special type of propositional formulas, called *Negation Normal Form* (NNF). A propositional formula is NNF if negation only appears in front of literals. For instance, the $\\alpha$ formula shown before is in NNF while $\\alpha' = a \\land \\lnot (b \\land \\lnot c)$. Note that $\\alpha$ and $\\alpha'$ are equivalent formulas (see [De Morgan's laws](https://en.wikipedia.org/wiki/De_Morgan%27s_laws) to understand why).\n",
    "Conveniently for us, every formula can be converted to an equivalent NNF formula in polynomial time [(Barwise, 1977)](https://www.sciencedirect.com/bookseries/studies-in-logic-and-the-foundations-of-mathematics/vol/90).\n",
    "\n",
    "From now on, we will consider a propositional formulas to be in NNF form.\n",
    "\n",
    "The circuit of $\\alpha$ can hence be formalized as\n",
    "\n",
    "<img src=\"data:image/png;base64,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\" />\n",
    "\n",
    "Since it is composed of $+$-nodes and $times$-nodes, it takes the name of arithmetic circuit as well in literature [(Darwiche, 2003)](https://dl.acm.org/doi/abs/10.1145/765568.765570). We will refer to an aithmetic circuit simply as a computational circuit, since it is actually implemented as a computational grpah with a simple feed-forward semantics.\n",
    "\n",
    "Practically, input literals are implemented using indicator functions. For instance, the literal $a$ is implemented by the indicator function $[a = 1.0]$, which takes the value of true if the input to the circuit is $1.0$. Similarly, the literal $\\lnot b$ is implemented by the indicator function $[b = 0.0]$.\n",
    "\n",
    "Let's implement the formula $\\alpha = a \\land (b \\lor \\lnot c)$ using the `cirkit.templates.logic` module first and then convert it into a computational circuit."
   ]
  },
  {
   "cell_type": "markdown",
   "id": "da0fa22c",
   "metadata": {},
   "source": [
    "First, we define the literals $a$, $b$ and $\\lnot c$"
   ]
  },
  {
   "cell_type": "code",
   "execution_count": 1,
   "id": "751013d4",
   "metadata": {},
   "outputs": [],
   "source": [
    "from cirkit.templates.logic import LiteralNode, NegatedLiteralNode\n",
    "a, not_b, c = LiteralNode(0), NegatedLiteralNode(1), LiteralNode(2)"
   ]
  },
  {
   "cell_type": "markdown",
   "id": "db2d5f3d",
   "metadata": {},
   "source": [
    "We then construct the tree associated associated with the formula $\\alpha$ that we saw before. \n",
    "To do so, we define a disjunction node $\\alpha_d$ representing $\\alpha_d = b \\lor \\lnot c$ and a conjunction node representing $\\alpha = a \\land \\alpha_d$.\n",
    "We then define the inputs of those nodes according to their graph (actually, tree) representation.\n",
    "\n",
    "Finally, we can build a `LogicGraph` object representing $\\alpha$'s graph."
   ]
  },
  {
   "cell_type": "code",
   "execution_count": 2,
   "id": "c4a01580",
   "metadata": {},
   "outputs": [],
   "source": [
    "from cirkit.templates.logic import LogicGraph, ConjunctionNode, DisjunctionNode\n",
    "\n",
    "alpha_d = DisjunctionNode()\n",
    "alpha = ConjunctionNode()\n",
    "\n",
    "# define the nodes inputs\n",
    "nodes_input = {\n",
    "    alpha_d: [not_b, c],\n",
    "    alpha: [a, alpha_d]\n",
    "}\n",
    "\n",
    "alpha_graph = LogicGraph(\n",
    "    nodes=[a, not_b, c, alpha_d, alpha], # the set of all the nodes in the graph\n",
    "    in_nodes=nodes_input,\n",
    "    outputs=[alpha] # the output of the circuit is the node alpha\n",
    ")"
   ]
  },
  {
   "cell_type": "markdown",
   "id": "af50f45e",
   "metadata": {},
   "source": [
    "Converting a `LogicGraph` to a symbolic `cirkit` graph is straightforward by using the static method `cirkit.symbolic.circuit.Circuit.from_logic_graph`."
   ]
  },
  {
   "cell_type": "code",
   "execution_count": 3,
   "id": "9c6e357b",
   "metadata": {},
   "outputs": [
    {
     "data": {
      "image/svg+xml": [
       "<?xml version=\"1.0\" encoding=\"UTF-8\" standalone=\"no\"?>\n",
       "<!DOCTYPE svg PUBLIC \"-//W3C//DTD SVG 1.1//EN\"\n",
       " \"http://www.w3.org/Graphics/SVG/1.1/DTD/svg11.dtd\">\n",
       "<!-- Generated by graphviz version 12.1.2 (0)\n",
       " -->\n",
       "<!-- Pages: 1 -->\n",
       "<svg width=\"170pt\" height=\"188pt\"\n",
       " viewBox=\"0.00 0.00 170.00 188.00\" xmlns=\"http://www.w3.org/2000/svg\" xmlns:xlink=\"http://www.w3.org/1999/xlink\">\n",
       "<g id=\"graph0\" class=\"graph\" transform=\"scale(1 1) rotate(0) translate(4 184)\">\n",
       "<polygon fill=\"white\" stroke=\"none\" points=\"-4,4 -4,-184 166,-184 166,4 -4,4\"/>\n",
       "<!-- 136523522918448 -->\n",
       "<g id=\"node1\" class=\"node\">\n",
       "<title>136523522918448</title>\n",
       "<polygon fill=\"#ffbd2a\" stroke=\"#ffbd2a\" points=\"54,-108 0,-108 0,-72 54,-72 54,-108\"/>\n",
       "<text text-anchor=\"middle\" x=\"27\" y=\"-80.92\" font-family=\"times italic bold\" font-size=\"21.00\" fill=\"white\">0</text>\n",
       "</g>\n",
       "<!-- 136523544403776 -->\n",
       "<g id=\"node4\" class=\"node\">\n",
       "<title>136523544403776</title>\n",
       "<polygon fill=\"#24a5af\" stroke=\"#24a5af\" points=\"90,-180 36,-180 36,-144 90,-144 90,-180\"/>\n",
       "<text text-anchor=\"middle\" x=\"63\" y=\"-152.93\" font-family=\"times italic bold\" font-size=\"21.00\" fill=\"white\">⊙</text>\n",
       "</g>\n",
       "<!-- 136523522918448&#45;&gt;136523544403776 -->\n",
       "<g id=\"edge3\" class=\"edge\">\n",
       "<title>136523522918448&#45;&gt;136523544403776</title>\n",
       "<path fill=\"none\" stroke=\"black\" d=\"M35.9,-108.3C39.87,-116.02 44.63,-125.29 49.06,-133.89\"/>\n",
       "<polygon fill=\"black\" stroke=\"black\" points=\"45.83,-135.26 53.51,-142.55 52.05,-132.06 45.83,-135.26\"/>\n",
       "</g>\n",
       "<!-- 136523523016896 -->\n",
       "<g id=\"node2\" class=\"node\">\n",
       "<title>136523523016896</title>\n",
       "<polygon fill=\"#607d8b\" stroke=\"#607d8b\" points=\"126,-108 72,-108 72,-72 126,-72 126,-108\"/>\n",
       "<text text-anchor=\"middle\" x=\"99\" y=\"-80.92\" font-family=\"times italic bold\" font-size=\"21.00\" fill=\"white\">+</text>\n",
       "</g>\n",
       "<!-- 136523523016896&#45;&gt;136523544403776 -->\n",
       "<g id=\"edge4\" class=\"edge\">\n",
       "<title>136523523016896&#45;&gt;136523544403776</title>\n",
       "<path fill=\"none\" stroke=\"black\" d=\"M90.1,-108.3C86.13,-116.02 81.37,-125.29 76.94,-133.89\"/>\n",
       "<polygon fill=\"black\" stroke=\"black\" points=\"73.95,-132.06 72.49,-142.55 80.17,-135.26 73.95,-132.06\"/>\n",
       "</g>\n",
       "<!-- 136523522929920 -->\n",
       "<g id=\"node3\" class=\"node\">\n",
       "<title>136523522929920</title>\n",
       "<polygon fill=\"#ffbd2a\" stroke=\"#ffbd2a\" points=\"90,-36 36,-36 36,0 90,0 90,-36\"/>\n",
       "<text text-anchor=\"middle\" x=\"63\" y=\"-8.93\" font-family=\"times italic bold\" font-size=\"21.00\" fill=\"white\">¬1</text>\n",
       "</g>\n",
       "<!-- 136523522929920&#45;&gt;136523523016896 -->\n",
       "<g id=\"edge1\" class=\"edge\">\n",
       "<title>136523522929920&#45;&gt;136523523016896</title>\n",
       "<path fill=\"none\" stroke=\"black\" d=\"M71.9,-36.3C75.87,-44.02 80.63,-53.29 85.06,-61.89\"/>\n",
       "<polygon fill=\"black\" stroke=\"black\" points=\"81.83,-63.26 89.51,-70.55 88.05,-60.06 81.83,-63.26\"/>\n",
       "</g>\n",
       "<!-- 136523533880160 -->\n",
       "<g id=\"node5\" class=\"node\">\n",
       "<title>136523533880160</title>\n",
       "<polygon fill=\"#ffbd2a\" stroke=\"#ffbd2a\" points=\"162,-36 108,-36 108,0 162,0 162,-36\"/>\n",
       "<text text-anchor=\"middle\" x=\"135\" y=\"-8.93\" font-family=\"times italic bold\" font-size=\"21.00\" fill=\"white\">2</text>\n",
       "</g>\n",
       "<!-- 136523533880160&#45;&gt;136523523016896 -->\n",
       "<g id=\"edge2\" class=\"edge\">\n",
       "<title>136523533880160&#45;&gt;136523523016896</title>\n",
       "<path fill=\"none\" stroke=\"black\" d=\"M126.1,-36.3C122.13,-44.02 117.37,-53.29 112.94,-61.89\"/>\n",
       "<polygon fill=\"black\" stroke=\"black\" points=\"109.95,-60.06 108.49,-70.55 116.17,-63.26 109.95,-60.06\"/>\n",
       "</g>\n",
       "</g>\n",
       "</svg>\n"
      ],
      "text/plain": [
       "<graphviz.graphs.Digraph at 0x7c2b041c3200>"
      ]
     },
     "execution_count": 3,
     "metadata": {},
     "output_type": "execute_result"
    }
   ],
   "source": [
    "from cirkit.symbolic.circuit import Circuit\n",
    "\n",
    "def literal_label(layer):\n",
    "    prefix = \"¬\" if layer.probs.output.value.squeeze().tolist() == [1.0, 0.0] else \"\"\n",
    "    return f\"{prefix}{next(iter(layer.scope))}\"\n",
    "\n",
    "circuit = Circuit.from_logic_circuit(alpha_graph, enforce_smoothness=False)\n",
    "circuit.plot(input_label=literal_label)"
   ]
  },
  {
   "cell_type": "markdown",
   "id": "718b33d9",
   "metadata": {},
   "source": [
    "We can now compile the symbolic circuit to a computational graph just like we did in **learning-a-circuit.ipynb** notebook. Note that, since we assumed the boolean semiring to define $\\top$ as $1$ and $\\bot$ as $0$, we have to rely on `cirkit`'s `sum-product` semiring to obtain consistent results."
   ]
  },
  {
   "cell_type": "code",
   "execution_count": 4,
   "id": "e8882dbc",
   "metadata": {},
   "outputs": [
    {
     "data": {
      "text/plain": [
       "TorchCircuit(\n",
       "  (0): TorchCategoricalLayer(\n",
       "    folds: 1  channels: 1  variables: 1  output-units: 1\n",
       "    input-shape: (1, 1, -1, 1)\n",
       "    output-shape: (1, -1, 1)\n",
       "    (probs): TorchParameter(\n",
       "      shape: (1, 1, 1, 2)\n",
       "      (0): TorchTensorParameter(output-shape: (1, 1, 1, 2))\n",
       "    )\n",
       "  )\n",
       "  (1): TorchCategoricalLayer(\n",
       "    folds: 1  channels: 1  variables: 1  output-units: 1\n",
       "    input-shape: (1, 1, -1, 1)\n",
       "    output-shape: (1, -1, 1)\n",
       "    (probs): TorchParameter(\n",
       "      shape: (1, 1, 1, 2)\n",
       "      (0): TorchTensorParameter(output-shape: (1, 1, 1, 2))\n",
       "    )\n",
       "  )\n",
       "  (2): TorchCategoricalLayer(\n",
       "    folds: 1  channels: 1  variables: 1  output-units: 1\n",
       "    input-shape: (1, 1, -1, 1)\n",
       "    output-shape: (1, -1, 1)\n",
       "    (probs): TorchParameter(\n",
       "      shape: (1, 1, 1, 2)\n",
       "      (0): TorchTensorParameter(output-shape: (1, 1, 1, 2))\n",
       "    )\n",
       "  )\n",
       "  (3): TorchSumLayer(\n",
       "    folds: 1  arity: 2  input-units: 1  output-units: 1\n",
       "    input-shape: (1, 2, -1, 1)\n",
       "    output-shape: (1, -1, 1)\n",
       "    (weight): TorchParameter(\n",
       "      shape: (1, 1, 2)\n",
       "      (0): TorchTensorParameter(output-shape: (1, 1, 2))\n",
       "    )\n",
       "  )\n",
       "  (4): TorchHadamardLayer(\n",
       "    folds: 1  arity: 2  input-units: 1  output-units: 1\n",
       "    input-shape: (1, 2, -1, 1)\n",
       "    output-shape: (1, -1, 1)\n",
       "  )\n",
       ")"
      ]
     },
     "execution_count": 4,
     "metadata": {},
     "output_type": "execute_result"
    }
   ],
   "source": [
    "from cirkit.pipeline import compile, PipelineContext\n",
    "\n",
    "ctx = PipelineContext(backend='torch', semiring='sum-product')\n",
    "with ctx:\n",
    "    compiled_circuit = compile(circuit)\n",
    "\n",
    "compiled_circuit"
   ]
  },
  {
   "cell_type": "markdown",
   "id": "389e0185",
   "metadata": {},
   "source": [
    "We can now perform model checking using the compiled circuit. To do so, we provide the circuit with an input tensor. Each position in the tensor represents a literal in the compiled circuit. Literals are lexicographically ordered. Hence, position `0` represents the literal $a$. If the value at index `0` is $1.0$ the interpretation will contain $a$, if it is $0.0$ it will contain $\\lnot a$ instead.\n",
    "\n",
    "Hence, to check if $\\{a, b, c \\}$ is a model we can evaluate the circuit on the tensor $[1.0, 1.0, 1.0]$.\n",
    "\n",
    "Note that `cirkit`'s circuit expects the input to be shaped as `(batch size, number of channels, number of inputs)`. We will shape the `torch` tensor accordingly."
   ]
  },
  {
   "cell_type": "code",
   "execution_count": 5,
   "id": "b34a592a",
   "metadata": {},
   "outputs": [
    {
     "data": {
      "text/plain": [
       "tensor([[[1.]]])"
      ]
     },
     "execution_count": 5,
     "metadata": {},
     "output_type": "execute_result"
    }
   ],
   "source": [
    "import torch\n",
    "\n",
    "compiled_circuit(torch.tensor([1.0, 1.0, 1.0]).reshape(1, 1, -1))"
   ]
  },
  {
   "cell_type": "markdown",
   "id": "b52c7a7a",
   "metadata": {},
   "source": [
    "The circuit evaluates to $1.0$, hence $\\{ a, b, c \\} \\models \\alpha$. Similarly, we can see that $\\{ \\lnot a, b, c \\}$ is not a model for $\\alpha$ by checking that the tensor $[0.0, 1.0, 1.0]$ evaluates to $0.0$."
   ]
  },
  {
   "cell_type": "code",
   "execution_count": 6,
   "id": "42d64763",
   "metadata": {},
   "outputs": [
    {
     "data": {
      "text/plain": [
       "tensor([[[0.]]])"
      ]
     },
     "execution_count": 6,
     "metadata": {},
     "output_type": "execute_result"
    }
   ],
   "source": [
    "compiled_circuit(torch.tensor([0.0, 1.0, 1.0]).reshape(1, 1, -1))"
   ]
  },
  {
   "cell_type": "markdown",
   "id": "4048dd27",
   "metadata": {},
   "source": [
    "We can exploit `cirkit` to check for structural properties of the resulting circuit, such as smoothness, decomposibility, etc"
   ]
  },
  {
   "cell_type": "code",
   "execution_count": 7,
   "id": "9b7e836b",
   "metadata": {},
   "outputs": [
    {
     "data": {
      "text/plain": [
       "StructuralProperties(smooth=False, decomposable=True, structured_decomposable=False, omni_compatible=False)"
      ]
     },
     "execution_count": 7,
     "metadata": {},
     "output_type": "execute_result"
    }
   ],
   "source": [
    "compiled_circuit.properties"
   ]
  },
  {
   "cell_type": "markdown",
   "id": "2abc4aa6",
   "metadata": {},
   "source": [
    "Notice that the circuit is not smooth. However, smoothness can be easily enforced in a circuit in quadratic time. This is implemented in `cirkit` and can be enforced when constructing a circuit using the parameter `enforce_smoothness`."
   ]
  },
  {
   "cell_type": "code",
   "execution_count": 8,
   "id": "c8d6cd3e",
   "metadata": {},
   "outputs": [
    {
     "data": {
      "text/plain": [
       "StructuralProperties(smooth=True, decomposable=True, structured_decomposable=False, omni_compatible=False)"
      ]
     },
     "execution_count": 8,
     "metadata": {},
     "output_type": "execute_result"
    }
   ],
   "source": [
    "smooth_circuit = Circuit.from_logic_circuit(alpha_graph, enforce_smoothness=True)\n",
    "\n",
    "with ctx:\n",
    "    smooth_compiled_circuit = compile(smooth_circuit)\n",
    "\n",
    "smooth_circuit.properties"
   ]
  },
  {
   "cell_type": "markdown",
   "id": "bdc448e1",
   "metadata": {},
   "source": [
    "Now that the circuit is smooth and decomposable, integration can be performed tractably [(Friesen & Domingos)](https://proceedings.mlr.press/v48/friesen16.html). \n",
    "\n",
    "Before we show how to do that in `cirkit` we highlight that the representation we just obtained for $\\alpha$ is already a compilation technique, whose target language is the set of smooth and decomposable NNF circuits, called `sd-NNF`. Unfortunately, `sd-NNF` is not a good target language, since it does not allow sound model checking nor any other task in tractable time [(Darwiche & Marquis, 2003)](https://jair.org/index.php/jair/article/view/10311).\n",
    "\n",
    "This can be seen in the computational circuit of $\\alpha$ plotted above. Consider the input $\\{ a, \\lnot b, c \\}$. The input to the computational circuit is $[1.0, 0.0, 1.0]$. The value of the input nodes is $[1.0, 1.0, 1.0]$ though, since they are implemented as indicator functions.\n",
    "\n",
    "Hence, the computation performed by the circuit is $([a = 1.0] + [b = 0.0]) \\cdot [c = 1.0] = (1.0 + 1.0) \\cdot 1.0 = 2.0$. Clearly, $2.0$ is not a valid output, since we only expect a computational circuit implementing a logic circuit to output $0.0$ for $\\bot$ and $1.0$ for $\\top$.\n",
    "It is easy to see that this is due to the sum node between $a$ and $\\lnot b$. From a circuit properties point of view, this relates to the determinism property. See [(Choi & Darwiche, 2017)](https://proceedings.mlr.press/v70/choi17a.html) for a more detailed discussion.\n",
    "\n",
    "We can easily verify this issue with `cirkit` by evaluating both the original circuit and the smoothed circuit on $[1.0, 0.0, 1.0]$."
   ]
  },
  {
   "cell_type": "code",
   "execution_count": 21,
   "id": "97fd5510",
   "metadata": {},
   "outputs": [
    {
     "data": {
      "text/plain": [
       "tensor([[[2.]]])"
      ]
     },
     "execution_count": 21,
     "metadata": {},
     "output_type": "execute_result"
    }
   ],
   "source": [
    "compiled_circuit(torch.tensor([1.0, 0.0, 1.0]).reshape(1, 1, -1))"
   ]
  },
  {
   "cell_type": "code",
   "execution_count": 22,
   "id": "1317d38b",
   "metadata": {},
   "outputs": [
    {
     "data": {
      "text/plain": [
       "tensor([[[2.]]])"
      ]
     },
     "execution_count": 22,
     "metadata": {},
     "output_type": "execute_result"
    }
   ],
   "source": [
    "smooth_compiled_circuit(torch.tensor([1.0, 0.0, 1.0]).reshape(1, 1, -1))"
   ]
  },
  {
   "cell_type": "markdown",
   "id": "ec4eb48a",
   "metadata": {},
   "source": [
    "## Load a target language in `cirkit`\n",
    "\n",
    "To avoid those issue, we can rely on the knowledge compilers proposed in literature to produce a logic representation that can perform tractably the queries we are interested into and implement it using `cirkit`.\n",
    "As we stated before, knowledge compilers essentially build *more complex* formulas that are however guaranteed to satisfy some structural properties.\n",
    "\n",
    "Different knowledge compilation techniques have been proposed, yielding circuits that differ in the properties supported, the size of the resulting circuit and the type of operations supported on them.\n",
    "\n",
    "In this notebook we will experiment with [Sentential Decision Diagrams (SDD)](https://dl.acm.org/doi/abs/10.5555/2283516.2283536), which result in deterministic and decomposable circuits, allowing tractably querying for instance checking, model counting and more. \n",
    "\n",
    "We will rely on the [pySDD](https://github.com/ML-KULeuven/PySDD) library to compile propositional formulas to SDD circuits, exploiting the [official SDD compiler](http://reasoning.cs.ucla.edu/sdd/). \n",
    "\n",
    "You can install pySDD with\n",
    "\n",
    "```\n",
    "$ pip install PySDD\n",
    "```\n",
    "\n",
    "additionally, we will visualize the boolean circuit using graphviz, which can be installed using \n",
    "\n",
    "```\n",
    "$ pip install graphviz\n",
    "```"
   ]
  },
  {
   "cell_type": "markdown",
   "id": "6c1e5251",
   "metadata": {},
   "source": [
    "An SDD is a [canonical representation](https://en.wikipedia.org/wiki/Canonical_normal_form) of a propositional formula depending on the ordering of the variables, decided through the use of a variable tree (VTree).\n",
    "Hence, we need to define first the variable ordering. "
   ]
  },
  {
   "cell_type": "code",
   "execution_count": 23,
   "id": "0ebb8e3a",
   "metadata": {},
   "outputs": [
    {
     "data": {
      "image/svg+xml": [
       "<?xml version=\"1.0\" encoding=\"UTF-8\" standalone=\"no\"?>\n",
       "<!DOCTYPE svg PUBLIC \"-//W3C//DTD SVG 1.1//EN\"\n",
       " \"http://www.w3.org/Graphics/SVG/1.1/DTD/svg11.dtd\">\n",
       "<!-- Generated by graphviz version 12.1.2 (0)\n",
       " -->\n",
       "<!-- Title: vtree Pages: 1 -->\n",
       "<svg width=\"78pt\" height=\"129pt\"\n",
       " viewBox=\"0.00 0.00 78.00 128.96\" xmlns=\"http://www.w3.org/2000/svg\" xmlns:xlink=\"http://www.w3.org/1999/xlink\">\n",
       "<g id=\"graph0\" class=\"graph\" transform=\"scale(1 1) rotate(0) translate(4 124.96)\">\n",
       "<title>vtree</title>\n",
       "<polygon fill=\"white\" stroke=\"none\" points=\"-4,4 -4,-124.96 74,-124.96 74,4 -4,4\"/>\n",
       "<!-- n1 -->\n",
       "<g id=\"node1\" class=\"node\">\n",
       "<title>n1</title>\n",
       "<text text-anchor=\"middle\" x=\"26\" y=\"-109.45\" font-family=\"Times\" font-size=\"12.00\">1</text>\n",
       "</g>\n",
       "<!-- n0 -->\n",
       "<g id=\"node2\" class=\"node\">\n",
       "<title>n0</title>\n",
       "<text text-anchor=\"middle\" x=\"9\" y=\"-57.95\" font-family=\"Times,serif\" font-style=\"italic\" font-size=\"14.00\">A</text>\n",
       "</g>\n",
       "<!-- n1&#45;&gt;n0 -->\n",
       "<g id=\"edge1\" class=\"edge\">\n",
       "<title>n1&#45;&gt;n0</title>\n",
       "<path fill=\"none\" stroke=\"black\" d=\"M24.18,-108.18C21.17,-99.41 15.12,-81.82 11.64,-71.68\"/>\n",
       "<text text-anchor=\"middle\" x=\"9.01\" y=\"-73.43\" font-family=\"Times\" font-size=\"10.00\">0</text>\n",
       "</g>\n",
       "<!-- n3 -->\n",
       "<g id=\"node3\" class=\"node\">\n",
       "<title>n3</title>\n",
       "<text text-anchor=\"middle\" x=\"43\" y=\"-57.98\" font-family=\"Times\" font-size=\"12.00\">3</text>\n",
       "</g>\n",
       "<!-- n1&#45;&gt;n3 -->\n",
       "<g id=\"edge2\" class=\"edge\">\n",
       "<title>n1&#45;&gt;n3</title>\n",
       "<path fill=\"none\" stroke=\"black\" d=\"M27.82,-108.18C31.07,-98.71 37.86,-78.96 41.14,-69.41\"/>\n",
       "</g>\n",
       "<!-- n2 -->\n",
       "<g id=\"node4\" class=\"node\">\n",
       "<title>n2</title>\n",
       "<text text-anchor=\"middle\" x=\"25\" y=\"-3.95\" font-family=\"Times,serif\" font-style=\"italic\" font-size=\"14.00\">B</text>\n",
       "</g>\n",
       "<!-- n3&#45;&gt;n2 -->\n",
       "<g id=\"edge3\" class=\"edge\">\n",
       "<title>n3&#45;&gt;n2</title>\n",
       "<path fill=\"none\" stroke=\"black\" d=\"M41.21,-56.82C38.04,-47.68 31.44,-28.61 27.72,-17.84\"/>\n",
       "<text text-anchor=\"middle\" x=\"25.09\" y=\"-19.59\" font-family=\"Times\" font-size=\"10.00\">2</text>\n",
       "</g>\n",
       "<!-- n4 -->\n",
       "<g id=\"node5\" class=\"node\">\n",
       "<title>n4</title>\n",
       "<text text-anchor=\"middle\" x=\"61\" y=\"-3.95\" font-family=\"Times,serif\" font-style=\"italic\" font-size=\"14.00\">C</text>\n",
       "</g>\n",
       "<!-- n3&#45;&gt;n4 -->\n",
       "<g id=\"edge4\" class=\"edge\">\n",
       "<title>n3&#45;&gt;n4</title>\n",
       "<path fill=\"none\" stroke=\"black\" d=\"M44.79,-56.82C47.96,-47.68 54.56,-28.61 58.28,-17.84\"/>\n",
       "<text text-anchor=\"middle\" x=\"55.66\" y=\"-19.59\" font-family=\"Times\" font-size=\"10.00\">4</text>\n",
       "</g>\n",
       "</g>\n",
       "</svg>\n"
      ],
      "text/plain": [
       "<graphviz.sources.Source at 0x7c2aeab68080>"
      ]
     },
     "execution_count": 23,
     "metadata": {},
     "output_type": "execute_result"
    }
   ],
   "source": [
    "from pysdd.sdd import Vtree\n",
    "import tempfile\n",
    "import graphviz\n",
    "\n",
    "# define the literals\n",
    "variables = [\"a\", \"b\", \"c\"]\n",
    "# construct the VTree by using a balanced ordering heuristics\n",
    "vtree = Vtree(len(variables), list(range(1, len(variables) + 1)), \"balanced\")\n",
    "\n",
    "# plot the vtree using graphviz\n",
    "with tempfile.NamedTemporaryFile() as f:\n",
    "    vtree.save_as_dot(f.name.encode())\n",
    "    vtree_graph = graphviz.Source(f.read().decode())\n",
    "vtree_graph"
   ]
  },
  {
   "cell_type": "markdown",
   "id": "a206a0b4",
   "metadata": {},
   "source": [
    "Once the variable tree has been defined, it is possible to compile the propositional formula into an SDD circuit."
   ]
  },
  {
   "cell_type": "code",
   "execution_count": 24,
   "id": "8cc2e96e",
   "metadata": {},
   "outputs": [
    {
     "data": {
      "image/svg+xml": [
       "<?xml version=\"1.0\" encoding=\"UTF-8\" standalone=\"no\"?>\n",
       "<!DOCTYPE svg PUBLIC \"-//W3C//DTD SVG 1.1//EN\"\n",
       " \"http://www.w3.org/Graphics/SVG/1.1/DTD/svg11.dtd\">\n",
       "<!-- Generated by graphviz version 12.1.2 (0)\n",
       " -->\n",
       "<!-- Title: sdd Pages: 1 -->\n",
       "<svg width=\"139pt\" height=\"230pt\"\n",
       " viewBox=\"0.00 0.00 138.80 230.50\" xmlns=\"http://www.w3.org/2000/svg\" xmlns:xlink=\"http://www.w3.org/1999/xlink\">\n",
       "<g id=\"graph0\" class=\"graph\" transform=\"scale(1 1) rotate(0) translate(4 226.5)\">\n",
       "<title>sdd</title>\n",
       "<polygon fill=\"white\" stroke=\"none\" points=\"-4,4 -4,-226.5 134.8,-226.5 134.8,4 -4,4\"/>\n",
       "<!-- n9 -->\n",
       "<g id=\"node1\" class=\"node\">\n",
       "<title>n9</title>\n",
       "<ellipse fill=\"#f2f2f2\" stroke=\"black\" cx=\"55.4\" cy=\"-75.92\" rx=\"17.32\" ry=\"17.32\"/>\n",
       "<text text-anchor=\"middle\" x=\"55.4\" y=\"-70.87\" font-family=\"Times,serif\" font-size=\"14.00\">3</text>\n",
       "</g>\n",
       "<!-- n9e0 -->\n",
       "<g id=\"node3\" class=\"node\">\n",
       "<title>n9e0</title>\n",
       "<polygon fill=\"white\" stroke=\"black\" points=\"0,-0.5 0,-22.1 46.8,-22.1 46.8,-0.5 0,-0.5\"/>\n",
       "<text text-anchor=\"middle\" x=\"11.5\" y=\"-3.55\" font-family=\"Times,serif\" font-style=\"italic\" font-size=\"20.00\">B</text>\n",
       "<polyline fill=\"none\" stroke=\"black\" points=\"23,-0.5 23,-22.1\"/>\n",
       "<text text-anchor=\"middle\" x=\"35.25\" y=\"-3.55\" font-family=\"Times,serif\" font-style=\"italic\" font-size=\"20.00\">C</text>\n",
       "</g>\n",
       "<!-- n9&#45;&gt;n9e0 -->\n",
       "<g id=\"edge1\" class=\"edge\">\n",
       "<title>n9&#45;&gt;n9e0</title>\n",
       "<path fill=\"none\" stroke=\"black\" d=\"M47.82,-60.08C42.92,-50.5 36.55,-38.03 31.55,-28.24\"/>\n",
       "<polygon fill=\"black\" stroke=\"black\" points=\"33.15,-27.54 29.32,-23.88 30.04,-29.13 33.15,-27.54\"/>\n",
       "</g>\n",
       "<!-- n9e1 -->\n",
       "<g id=\"node4\" class=\"node\">\n",
       "<title>n9e1</title>\n",
       "<polygon fill=\"white\" stroke=\"black\" points=\"65,-0.5 65,-22.1 111.8,-22.1 111.8,-0.5 65,-0.5\"/>\n",
       "<text text-anchor=\"middle\" x=\"78.25\" y=\"-3.55\" font-family=\"Times,serif\" font-style=\"italic\" font-size=\"20.00\">¬B</text>\n",
       "<polyline fill=\"none\" stroke=\"black\" points=\"91.5,-0.5 91.5,-22.1\"/>\n",
       "<text text-anchor=\"middle\" x=\"102.12\" y=\"-2.8\" font-family=\"Times,serif\" font-style=\"italic\" font-size=\"20.00\">⊤</text>\n",
       "</g>\n",
       "<!-- n9&#45;&gt;n9e1 -->\n",
       "<g id=\"edge2\" class=\"edge\">\n",
       "<title>n9&#45;&gt;n9e1</title>\n",
       "<path fill=\"none\" stroke=\"black\" d=\"M63.22,-60.08C68.27,-50.5 74.84,-38.03 80,-28.24\"/>\n",
       "<polygon fill=\"black\" stroke=\"black\" points=\"81.52,-29.11 82.3,-23.87 78.42,-27.48 81.52,-29.11\"/>\n",
       "</g>\n",
       "<!-- n10 -->\n",
       "<g id=\"node2\" class=\"node\">\n",
       "<title>n10</title>\n",
       "<ellipse fill=\"#f2f2f2\" stroke=\"black\" cx=\"74.4\" cy=\"-205.17\" rx=\"17.32\" ry=\"17.32\"/>\n",
       "<text text-anchor=\"middle\" x=\"74.4\" y=\"-200.12\" font-family=\"Times,serif\" font-size=\"14.00\">1</text>\n",
       "</g>\n",
       "<!-- n10e0 -->\n",
       "<g id=\"node5\" class=\"node\">\n",
       "<title>n10e0</title>\n",
       "<polygon fill=\"white\" stroke=\"black\" points=\"19,-129.75 19,-151.35 65.8,-151.35 65.8,-129.75 19,-129.75\"/>\n",
       "<text text-anchor=\"middle\" x=\"32.5\" y=\"-132.8\" font-family=\"Times,serif\" font-style=\"italic\" font-size=\"20.00\">A</text>\n",
       "<polyline fill=\"none\" stroke=\"black\" points=\"46,-129.75 46,-151.35\"/>\n",
       "<text text-anchor=\"middle\" x=\"56.12\" y=\"-132.8\" font-family=\"Times,serif\" font-style=\"italic\" font-size=\"20.00\"> </text>\n",
       "</g>\n",
       "<!-- n10&#45;&gt;n10e0 -->\n",
       "<g id=\"edge3\" class=\"edge\">\n",
       "<title>n10&#45;&gt;n10e0</title>\n",
       "<path fill=\"none\" stroke=\"black\" d=\"M66.82,-189.33C61.92,-179.75 55.55,-167.28 50.55,-157.49\"/>\n",
       "<polygon fill=\"black\" stroke=\"black\" points=\"52.15,-156.79 48.32,-153.13 49.04,-158.38 52.15,-156.79\"/>\n",
       "</g>\n",
       "<!-- n10e1 -->\n",
       "<g id=\"node6\" class=\"node\">\n",
       "<title>n10e1</title>\n",
       "<polygon fill=\"white\" stroke=\"black\" points=\"84,-129.75 84,-151.35 130.8,-151.35 130.8,-129.75 84,-129.75\"/>\n",
       "<text text-anchor=\"middle\" x=\"97.25\" y=\"-132.8\" font-family=\"Times,serif\" font-style=\"italic\" font-size=\"20.00\">¬A</text>\n",
       "<polyline fill=\"none\" stroke=\"black\" points=\"110.5,-129.75 110.5,-151.35\"/>\n",
       "<text text-anchor=\"middle\" x=\"121.12\" y=\"-132.05\" font-family=\"Times,serif\" font-style=\"italic\" font-size=\"20.00\">⊥</text>\n",
       "</g>\n",
       "<!-- n10&#45;&gt;n10e1 -->\n",
       "<g id=\"edge5\" class=\"edge\">\n",
       "<title>n10&#45;&gt;n10e1</title>\n",
       "<path fill=\"none\" stroke=\"black\" d=\"M82.22,-189.33C87.27,-179.75 93.84,-167.28 99,-157.49\"/>\n",
       "<polygon fill=\"black\" stroke=\"black\" points=\"100.52,-158.36 101.3,-153.12 97.42,-156.73 100.52,-158.36\"/>\n",
       "</g>\n",
       "<!-- n10e0&#45;&gt;n9 -->\n",
       "<g id=\"edge4\" class=\"edge\">\n",
       "<title>n10e0:c&#45;&gt;n9</title>\n",
       "<path fill=\"none\" stroke=\"black\" d=\"M56.07,-135.59C55.98,-127.94 55.81,-112.79 55.66,-99.8\"/>\n",
       "<ellipse fill=\"black\" stroke=\"black\" cx=\"56.1\" cy=\"-138.05\" rx=\"2\" ry=\"2\"/>\n",
       "<polygon fill=\"black\" stroke=\"black\" points=\"57.41,-100.13 55.61,-95.15 53.91,-100.17 57.41,-100.13\"/>\n",
       "</g>\n",
       "</g>\n",
       "</svg>\n"
      ],
      "text/plain": [
       "<graphviz.sources.Source at 0x7c2aeab47b60>"
      ]
     },
     "execution_count": 24,
     "metadata": {},
     "output_type": "execute_result"
    }
   ],
   "source": [
    "from pysdd.sdd import SddManager\n",
    "\n",
    "# create the SDD manager, which handles the connection between literals and their order in the vtree\n",
    "manager = SddManager.from_vtree(vtree)\n",
    "\n",
    "# create the sdd literals\n",
    "a, b, c = [manager.literal(i + 1) for i in range(len(variables))]\n",
    "\n",
    "alpha = a & (~b | c)\n",
    "\n",
    "with tempfile.NamedTemporaryFile() as f:\n",
    "    alpha.save_as_dot(f.name.encode())\n",
    "    sdd_graph = graphviz.Source(f.read().decode())\n",
    "sdd_graph"
   ]
  },
  {
   "cell_type": "markdown",
   "id": "6f963fe8",
   "metadata": {},
   "source": [
    "As we can see, the resulting SDD is different than the plot of $\\alpha$ as an NNF. Indeed, the compiler built a more complex graph that represents the formula.\n",
    "Without going too much into details, numbered nodes corresponds to disjunctions $\\lor$ while rectangle boxes to conjunctions $\\land$. Exploiting this semantics, it is easy to convert the SDD into a computational graph.\n",
    "\n",
    "Before we do so, notice that the SDD for $\\alpha$ also explicitly involves the literals $\\top$ and $\\bot$. Those are needed to enfore some property, particularly determinism. However, they are artefacts that can be removed through the use of [unit propagation](https://en.wikipedia.org/wiki/Unit_propagation). See [(Derkinderen, 2024)](https://arxiv.org/abs/2407.17951?) for a detailed description of artefacts in compiled circuits (the analysis is performed on d-DNNF circuits, but it also applies to SDD).\n",
    "\n",
    "When loading an SDD into `cirkit`, unit propagation is automatically performed. \n",
    "\n",
    "We are now ready to implement $\\alpha$'s SDD using `cirkit`. This can be done through the `cirkit.templates.logic.sdd.SDD` class, which parses an SDD into a `LogicGraph`."
   ]
  },
  {
   "cell_type": "code",
   "execution_count": 25,
   "id": "6a7a64c6",
   "metadata": {},
   "outputs": [],
   "source": [
    "from cirkit.templates.logic.sdd import SDD\n",
    "\n",
    "with tempfile.NamedTemporaryFile() as f:\n",
    "    # export the SDD to a file\n",
    "    alpha.save(f.name.encode())\n",
    "    f.flush()\n",
    "\n",
    "    # parse the SDD representation using the SDD class\n",
    "    alpha_sdd: LogicGraph = SDD.load(f.name)\n",
    "    alpha_sdd = alpha_sdd.smooth()"
   ]
  },
  {
   "cell_type": "markdown",
   "id": "a4a7602a",
   "metadata": {},
   "source": [
    "We can now use `Circuit.from_logic_graph` just like we did previosly."
   ]
  },
  {
   "cell_type": "code",
   "execution_count": 26,
   "id": "a3790b49",
   "metadata": {},
   "outputs": [
    {
     "data": {
      "image/svg+xml": [
       "<?xml version=\"1.0\" encoding=\"UTF-8\" standalone=\"no\"?>\n",
       "<!DOCTYPE svg PUBLIC \"-//W3C//DTD SVG 1.1//EN\"\n",
       " \"http://www.w3.org/Graphics/SVG/1.1/DTD/svg11.dtd\">\n",
       "<!-- Generated by graphviz version 12.1.2 (0)\n",
       " -->\n",
       "<!-- Pages: 1 -->\n",
       "<svg width=\"233pt\" height=\"404pt\"\n",
       " viewBox=\"0.00 0.00 233.00 404.00\" xmlns=\"http://www.w3.org/2000/svg\" xmlns:xlink=\"http://www.w3.org/1999/xlink\">\n",
       "<g id=\"graph0\" class=\"graph\" transform=\"scale(1 1) rotate(0) translate(4 400)\">\n",
       "<polygon fill=\"white\" stroke=\"none\" points=\"-4,4 -4,-400 229,-400 229,4 -4,4\"/>\n",
       "<!-- 136523545639968 -->\n",
       "<g id=\"node1\" class=\"node\">\n",
       "<title>136523545639968</title>\n",
       "<polygon fill=\"#24a5af\" stroke=\"#24a5af\" points=\"81,-180 27,-180 27,-144 81,-144 81,-180\"/>\n",
       "<text text-anchor=\"middle\" x=\"54\" y=\"-152.93\" font-family=\"times italic bold\" font-size=\"21.00\" fill=\"white\">⊙</text>\n",
       "</g>\n",
       "<!-- 136523545640208 -->\n",
       "<g id=\"node8\" class=\"node\">\n",
       "<title>136523545640208</title>\n",
       "<polygon fill=\"#607d8b\" stroke=\"#607d8b\" points=\"153,-252 99,-252 99,-216 153,-216 153,-252\"/>\n",
       "<text text-anchor=\"middle\" x=\"126\" y=\"-224.93\" font-family=\"times italic bold\" font-size=\"21.00\" fill=\"white\">+</text>\n",
       "</g>\n",
       "<!-- 136523545639968&#45;&gt;136523545640208 -->\n",
       "<g id=\"edge10\" class=\"edge\">\n",
       "<title>136523545639968&#45;&gt;136523545640208</title>\n",
       "<path fill=\"none\" stroke=\"black\" d=\"M71.8,-180.3C80.28,-188.55 90.59,-198.57 99.93,-207.65\"/>\n",
       "<polygon fill=\"black\" stroke=\"black\" points=\"97.46,-210.14 107.07,-214.6 102.34,-205.12 97.46,-210.14\"/>\n",
       "</g>\n",
       "<!-- 136523545640496 -->\n",
       "<g id=\"node2\" class=\"node\">\n",
       "<title>136523545640496</title>\n",
       "<polygon fill=\"#607d8b\" stroke=\"#607d8b\" points=\"117,-396 63,-396 63,-360 117,-360 117,-396\"/>\n",
       "<text text-anchor=\"middle\" x=\"90\" y=\"-368.93\" font-family=\"times italic bold\" font-size=\"21.00\" fill=\"white\">+</text>\n",
       "</g>\n",
       "<!-- 136523545634400 -->\n",
       "<g id=\"node3\" class=\"node\">\n",
       "<title>136523545634400</title>\n",
       "<polygon fill=\"#ffbd2a\" stroke=\"#ffbd2a\" points=\"189,-36 135,-36 135,0 189,0 189,-36\"/>\n",
       "<text text-anchor=\"middle\" x=\"162\" y=\"-8.93\" font-family=\"times italic bold\" font-size=\"21.00\" fill=\"white\">2</text>\n",
       "</g>\n",
       "<!-- 136523545639536 -->\n",
       "<g id=\"node4\" class=\"node\">\n",
       "<title>136523545639536</title>\n",
       "<polygon fill=\"#24a5af\" stroke=\"#24a5af\" points=\"225,-180 171,-180 171,-144 225,-144 225,-180\"/>\n",
       "<text text-anchor=\"middle\" x=\"198\" y=\"-152.93\" font-family=\"times italic bold\" font-size=\"21.00\" fill=\"white\">⊙</text>\n",
       "</g>\n",
       "<!-- 136523545634400&#45;&gt;136523545639536 -->\n",
       "<g id=\"edge2\" class=\"edge\">\n",
       "<title>136523545634400&#45;&gt;136523545639536</title>\n",
       "<path fill=\"none\" stroke=\"black\" d=\"M182.38,-36.47C191.81,-45.91 202.01,-58.4 207,-72 214.16,-91.49 211.38,-114.9 207.1,-132.82\"/>\n",
       "<polygon fill=\"black\" stroke=\"black\" points=\"203.78,-131.68 204.55,-142.24 210.54,-133.5 203.78,-131.68\"/>\n",
       "</g>\n",
       "<!-- 136523545639728 -->\n",
       "<g id=\"node9\" class=\"node\">\n",
       "<title>136523545639728</title>\n",
       "<polygon fill=\"#607d8b\" stroke=\"#607d8b\" points=\"54,-108 0,-108 0,-72 54,-72 54,-108\"/>\n",
       "<text text-anchor=\"middle\" x=\"27\" y=\"-80.92\" font-family=\"times italic bold\" font-size=\"21.00\" fill=\"white\">+</text>\n",
       "</g>\n",
       "<!-- 136523545634400&#45;&gt;136523545639728 -->\n",
       "<g id=\"edge5\" class=\"edge\">\n",
       "<title>136523545634400&#45;&gt;136523545639728</title>\n",
       "<path fill=\"none\" stroke=\"black\" d=\"M134.68,-33.17C114.46,-43.65 86.68,-58.06 64.4,-69.61\"/>\n",
       "<polygon fill=\"black\" stroke=\"black\" points=\"62.89,-66.45 55.62,-74.16 66.11,-72.66 62.89,-66.45\"/>\n",
       "</g>\n",
       "<!-- 136523545639536&#45;&gt;136523545640208 -->\n",
       "<g id=\"edge9\" class=\"edge\">\n",
       "<title>136523545639536&#45;&gt;136523545640208</title>\n",
       "<path fill=\"none\" stroke=\"black\" d=\"M180.2,-180.3C171.72,-188.55 161.41,-198.57 152.07,-207.65\"/>\n",
       "<polygon fill=\"black\" stroke=\"black\" points=\"149.66,-205.12 144.93,-214.6 154.54,-210.14 149.66,-205.12\"/>\n",
       "</g>\n",
       "<!-- 136523545633968 -->\n",
       "<g id=\"node5\" class=\"node\">\n",
       "<title>136523545633968</title>\n",
       "<polygon fill=\"#ffbd2a\" stroke=\"#ffbd2a\" points=\"126,-108 72,-108 72,-72 126,-72 126,-108\"/>\n",
       "<text text-anchor=\"middle\" x=\"99\" y=\"-80.92\" font-family=\"times italic bold\" font-size=\"21.00\" fill=\"white\">¬1</text>\n",
       "</g>\n",
       "<!-- 136523545633968&#45;&gt;136523545639968 -->\n",
       "<g id=\"edge7\" class=\"edge\">\n",
       "<title>136523545633968&#45;&gt;136523545639968</title>\n",
       "<path fill=\"none\" stroke=\"black\" d=\"M87.88,-108.3C82.81,-116.19 76.7,-125.7 71.07,-134.45\"/>\n",
       "<polygon fill=\"black\" stroke=\"black\" points=\"68.28,-132.32 65.81,-142.62 74.17,-136.1 68.28,-132.32\"/>\n",
       "</g>\n",
       "<!-- 136523545639632 -->\n",
       "<g id=\"node6\" class=\"node\">\n",
       "<title>136523545639632</title>\n",
       "<polygon fill=\"#607d8b\" stroke=\"#607d8b\" points=\"153,-180 99,-180 99,-144 153,-144 153,-180\"/>\n",
       "<text text-anchor=\"middle\" x=\"126\" y=\"-152.93\" font-family=\"times italic bold\" font-size=\"21.00\" fill=\"white\">+</text>\n",
       "</g>\n",
       "<!-- 136523545633968&#45;&gt;136523545639632 -->\n",
       "<g id=\"edge4\" class=\"edge\">\n",
       "<title>136523545633968&#45;&gt;136523545639632</title>\n",
       "<path fill=\"none\" stroke=\"black\" d=\"M105.67,-108.3C108.58,-115.85 112.07,-124.88 115.32,-133.32\"/>\n",
       "<polygon fill=\"black\" stroke=\"black\" points=\"111.99,-134.41 118.86,-142.48 118.52,-131.89 111.99,-134.41\"/>\n",
       "</g>\n",
       "<!-- 136523545640160 -->\n",
       "<g id=\"node7\" class=\"node\">\n",
       "<title>136523545640160</title>\n",
       "<polygon fill=\"#24a5af\" stroke=\"#24a5af\" points=\"117,-324 63,-324 63,-288 117,-288 117,-324\"/>\n",
       "<text text-anchor=\"middle\" x=\"90\" y=\"-296.93\" font-family=\"times italic bold\" font-size=\"21.00\" fill=\"white\">⊙</text>\n",
       "</g>\n",
       "<!-- 136523545640160&#45;&gt;136523545640496 -->\n",
       "<g id=\"edge13\" class=\"edge\">\n",
       "<title>136523545640160&#45;&gt;136523545640496</title>\n",
       "<path fill=\"none\" stroke=\"black\" d=\"M90,-324.3C90,-331.59 90,-340.27 90,-348.46\"/>\n",
       "<polygon fill=\"black\" stroke=\"black\" points=\"86.5,-348.38 90,-358.38 93.5,-348.38 86.5,-348.38\"/>\n",
       "</g>\n",
       "<!-- 136523545640208&#45;&gt;136523545640160 -->\n",
       "<g id=\"edge12\" class=\"edge\">\n",
       "<title>136523545640208&#45;&gt;136523545640160</title>\n",
       "<path fill=\"none\" stroke=\"black\" d=\"M117.1,-252.3C113.13,-260.02 108.37,-269.29 103.94,-277.89\"/>\n",
       "<polygon fill=\"black\" stroke=\"black\" points=\"100.95,-276.06 99.49,-286.55 107.17,-279.26 100.95,-276.06\"/>\n",
       "</g>\n",
       "<!-- 136523545639728&#45;&gt;136523545639968 -->\n",
       "<g id=\"edge8\" class=\"edge\">\n",
       "<title>136523545639728&#45;&gt;136523545639968</title>\n",
       "<path fill=\"none\" stroke=\"black\" d=\"M33.67,-108.3C36.58,-115.85 40.07,-124.88 43.32,-133.32\"/>\n",
       "<polygon fill=\"black\" stroke=\"black\" points=\"39.99,-134.41 46.86,-142.48 46.52,-131.89 39.99,-134.41\"/>\n",
       "</g>\n",
       "<!-- 136523545639248 -->\n",
       "<g id=\"node10\" class=\"node\">\n",
       "<title>136523545639248</title>\n",
       "<polygon fill=\"#ffbd2a\" stroke=\"#ffbd2a\" points=\"54,-36 0,-36 0,0 54,0 54,-36\"/>\n",
       "<text text-anchor=\"middle\" x=\"27\" y=\"-8.93\" font-family=\"times italic bold\" font-size=\"21.00\" fill=\"white\">¬2</text>\n",
       "</g>\n",
       "<!-- 136523545639248&#45;&gt;136523545639728 -->\n",
       "<g id=\"edge6\" class=\"edge\">\n",
       "<title>136523545639248&#45;&gt;136523545639728</title>\n",
       "<path fill=\"none\" stroke=\"black\" d=\"M27,-36.3C27,-43.59 27,-52.27 27,-60.46\"/>\n",
       "<polygon fill=\"black\" stroke=\"black\" points=\"23.5,-60.38 27,-70.38 30.5,-60.38 23.5,-60.38\"/>\n",
       "</g>\n",
       "<!-- 136523545636704 -->\n",
       "<g id=\"node11\" class=\"node\">\n",
       "<title>136523545636704</title>\n",
       "<polygon fill=\"#ffbd2a\" stroke=\"#ffbd2a\" points=\"81,-252 27,-252 27,-216 81,-216 81,-252\"/>\n",
       "<text text-anchor=\"middle\" x=\"54\" y=\"-224.93\" font-family=\"times italic bold\" font-size=\"21.00\" fill=\"white\">0</text>\n",
       "</g>\n",
       "<!-- 136523545636704&#45;&gt;136523545640160 -->\n",
       "<g id=\"edge11\" class=\"edge\">\n",
       "<title>136523545636704&#45;&gt;136523545640160</title>\n",
       "<path fill=\"none\" stroke=\"black\" d=\"M62.9,-252.3C66.87,-260.02 71.63,-269.29 76.06,-277.89\"/>\n",
       "<polygon fill=\"black\" stroke=\"black\" points=\"72.83,-279.26 80.51,-286.55 79.05,-276.06 72.83,-279.26\"/>\n",
       "</g>\n",
       "<!-- 136523545638864 -->\n",
       "<g id=\"node12\" class=\"node\">\n",
       "<title>136523545638864</title>\n",
       "<polygon fill=\"#ffbd2a\" stroke=\"#ffbd2a\" points=\"198,-108 144,-108 144,-72 198,-72 198,-108\"/>\n",
       "<text text-anchor=\"middle\" x=\"171\" y=\"-80.92\" font-family=\"times italic bold\" font-size=\"21.00\" fill=\"white\">1</text>\n",
       "</g>\n",
       "<!-- 136523545638864&#45;&gt;136523545639536 -->\n",
       "<g id=\"edge1\" class=\"edge\">\n",
       "<title>136523545638864&#45;&gt;136523545639536</title>\n",
       "<path fill=\"none\" stroke=\"black\" d=\"M177.67,-108.3C180.58,-115.85 184.07,-124.88 187.32,-133.32\"/>\n",
       "<polygon fill=\"black\" stroke=\"black\" points=\"183.99,-134.41 190.86,-142.48 190.52,-131.89 183.99,-134.41\"/>\n",
       "</g>\n",
       "<!-- 136523545638864&#45;&gt;136523545639632 -->\n",
       "<g id=\"edge3\" class=\"edge\">\n",
       "<title>136523545638864&#45;&gt;136523545639632</title>\n",
       "<path fill=\"none\" stroke=\"black\" d=\"M159.88,-108.3C154.81,-116.19 148.7,-125.7 143.07,-134.45\"/>\n",
       "<polygon fill=\"black\" stroke=\"black\" points=\"140.28,-132.32 137.81,-142.62 146.17,-136.1 140.28,-132.32\"/>\n",
       "</g>\n",
       "</g>\n",
       "</svg>\n"
      ],
      "text/plain": [
       "<graphviz.graphs.Digraph at 0x7c2aeab684d0>"
      ]
     },
     "execution_count": 26,
     "metadata": {},
     "output_type": "execute_result"
    }
   ],
   "source": [
    "def literal_label(layer):\n",
    "    prefix = \"¬\" if layer.probs.output.value.squeeze().tolist() == [1.0, 0.0] else \"\"\n",
    "    return f\"{prefix}{next(iter(layer.scope))}\"\n",
    "\n",
    "alpha_sdd_circuit = Circuit.from_logic_circuit(alpha_sdd)\n",
    "alpha_sdd_circuit.plot(\n",
    "    input_label=literal_label\n",
    ")"
   ]
  },
  {
   "cell_type": "markdown",
   "id": "281e2acd",
   "metadata": {},
   "source": [
    "And compile the symbolic circuit to torch computational graph."
   ]
  },
  {
   "cell_type": "code",
   "execution_count": 27,
   "id": "c26beb39",
   "metadata": {},
   "outputs": [
    {
     "data": {
      "text/plain": [
       "StructuralProperties(smooth=True, decomposable=True, structured_decomposable=True, omni_compatible=False)"
      ]
     },
     "execution_count": 27,
     "metadata": {},
     "output_type": "execute_result"
    }
   ],
   "source": [
    "with ctx:\n",
    "    alpha_sdd_compiled_circuit = compile(alpha_sdd_circuit)\n",
    "\n",
    "alpha_sdd_compiled_circuit.properties"
   ]
  },
  {
   "cell_type": "markdown",
   "id": "9f0f4498",
   "metadata": {},
   "source": [
    "Notice that the circuit is smooth - courtesy of `cirkit` - decomposable and structured decomposable - courtesy of the SDD target language. \n",
    "\n",
    "In logic circuits, this properties can be exploited to query for satisfiability checking and, at the same time, model counting - i.e. counting the interpretations $\\mathcal{I}$ that model $\\alpha$.\n",
    "We can achieve this in `cirkit` by marginalizing over all the literals, similarly as we did in **learning-a-circuit.ipynb**."
   ]
  },
  {
   "cell_type": "code",
   "execution_count": 28,
   "id": "0a4cae92",
   "metadata": {},
   "outputs": [
    {
     "data": {
      "text/plain": [
       "tensor([[[3.]]])"
      ]
     },
     "execution_count": 28,
     "metadata": {},
     "output_type": "execute_result"
    }
   ],
   "source": [
    "from cirkit.utils.scope import Scope\n",
    "from cirkit.backend.torch.queries import IntegrateQuery\n",
    "\n",
    "# integrate over all the variables\n",
    "vars_to_marginalize = Scope([0, 1, 2])\n",
    "\n",
    "# create the query handler\n",
    "marginal_query = IntegrateQuery(alpha_sdd_compiled_circuit)\n",
    "\n",
    "# execute the query\n",
    "# note that the input to the circuit here is not important, since we will marginalize\n",
    "# over all variables\n",
    "marginal_query(torch.tensor([0, 0, 0]).reshape(1, 1, -1), integrate_vars=vars_to_marginalize)"
   ]
  },
  {
   "cell_type": "markdown",
   "id": "5e893673",
   "metadata": {},
   "source": [
    "Of course, we can also marginalize on a subset of all the variables in the logic circuit. This is equivalent to asking to the circuit if, given an interpretation that contains only a subset of all the literals, there exists an assignment to the remaining variables that satisfies the formula.\n",
    "\n",
    "For instance, we already know that an interpretation $\\mathcal{I}$ of $\\alpha$ is also a model for it only if $\\alpha \\in \\mathcal{I}$.\n",
    "Let's query the circuit asking if there exists a *completion* of a partial interpretation $\\tilde{\\mathcal{I}} = \\{ \\lnot \\alpha \\}$."
   ]
  },
  {
   "cell_type": "code",
   "execution_count": 29,
   "id": "20dbba09",
   "metadata": {},
   "outputs": [
    {
     "data": {
      "text/plain": [
       "tensor([[[0.]]])"
      ]
     },
     "execution_count": 29,
     "metadata": {},
     "output_type": "execute_result"
    }
   ],
   "source": [
    "# integrate over b and c\n",
    "vars_to_marginalize = Scope([1, 2])\n",
    "marginal_query = IntegrateQuery(alpha_sdd_compiled_circuit)\n",
    "marginal_query(torch.tensor([0, 0, 0]).reshape(1, 1, -1), integrate_vars=vars_to_marginalize)"
   ]
  },
  {
   "cell_type": "code",
   "execution_count": 30,
   "id": "1488411a",
   "metadata": {},
   "outputs": [
    {
     "data": {
      "text/plain": [
       "tensor([[[0.]]])"
      ]
     },
     "execution_count": 30,
     "metadata": {},
     "output_type": "execute_result"
    }
   ],
   "source": [
    "marginal_query(torch.tensor([0, 1, 0]).reshape(1, 1, -1), integrate_vars=vars_to_marginalize)"
   ]
  },
  {
   "cell_type": "code",
   "execution_count": 31,
   "id": "d4aae365",
   "metadata": {},
   "outputs": [
    {
     "data": {
      "text/plain": [
       "tensor([[[0.]]])"
      ]
     },
     "execution_count": 31,
     "metadata": {},
     "output_type": "execute_result"
    }
   ],
   "source": [
    "marginal_query(torch.tensor([0, 0, 1]).reshape(1, 1, -1), integrate_vars=vars_to_marginalize)"
   ]
  },
  {
   "cell_type": "code",
   "execution_count": 32,
   "id": "6120e3e5",
   "metadata": {},
   "outputs": [
    {
     "data": {
      "text/plain": [
       "tensor([[[0.]]])"
      ]
     },
     "execution_count": 32,
     "metadata": {},
     "output_type": "execute_result"
    }
   ],
   "source": [
    "marginal_query(torch.tensor([0, 1, 1]).reshape(1, 1, -1), integrate_vars=vars_to_marginalize)"
   ]
  },
  {
   "cell_type": "markdown",
   "id": "d0a3d0f7",
   "metadata": {},
   "source": [
    "Of course it does not exists! The circuit faithfully encodes the semantics of $\\alpha$."
   ]
  }
 ],
 "metadata": {
  "kernelspec": {
   "display_name": "cirkit",
   "language": "python",
   "name": "python3"
  },
  "language_info": {
   "codemirror_mode": {
    "name": "ipython",
    "version": 3
   },
   "file_extension": ".py",
   "mimetype": "text/x-python",
   "name": "python",
   "nbconvert_exporter": "python",
   "pygments_lexer": "ipython3",
   "version": "3.12.0"
  }
 },
 "nbformat": 4,
 "nbformat_minor": 5
}
