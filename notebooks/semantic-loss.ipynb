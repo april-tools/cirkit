{
 "cells": [
  {
   "cell_type": "code",
   "execution_count": 1,
   "id": "89f61638",
   "metadata": {},
   "outputs": [],
   "source": [
    "import random\n",
    "import numpy as np\n",
    "import torch\n",
    "\n",
    "# Set some seeds\n",
    "random.seed(42)\n",
    "np.random.seed(42)\n",
    "torch.manual_seed(42)\n",
    "torch.cuda.manual_seed(42)\n",
    "\n",
    "# Set the torch device to use\n",
    "device = torch.device('cuda:0')"
   ]
  },
  {
   "cell_type": "markdown",
   "id": "2eea1ec1",
   "metadata": {},
   "source": [
    "## Semantic loss using `cirkit`\n",
    "\n",
    "So far, we used our logic circuit in a *traditional* setting, by running queries related to its logical semantics. However, logic circuits also enable neuro-symbolic methods! In this notebook, we implement the **semantic loss** [(Xu et al, 2018)](https://proceedings.mlr.press/v80/xu18h.html), which relies on a logic circuit to implement contraints on the predictions of a neural network, using an SDD.\n",
    "\n",
    "Imagine we want to enforce constraints on the output $\\hat{y}$ of a neural network and we want to model those contraints as a logic formula $F$ by considering each element of $\\hat{y}$ as a literal in $F$. We can compile the formula $F$ into a logic circuit $\\texttt{c}$ and we can efficiently perform a bunch of operations on it (see [logic circuits](../logic-circuits)), but can we actually use the values of $\\hat{y}$ as inputs to $\\texttt{c}$? Or in other words, can we quantify if the input $\\texttt{y}$ is a model for $\\texttt{c}$ ($\\texttt{y} \\models \\texttt{c}$)?\n",
    "\n",
    "And even more importantly, since $\\texttt{y}$ is a probability distribution, can we evaluate how likely it is to satisfy the constraint $\\texttt{c}$? The answer is yes, by performing the Weighted Model Count of the formula $\\texttt{c}$ where the weights are provided by $\\texttt{y}$.\n",
    "\n",
    "Building on this idea, the semantic loss is defined as $\\mathcal{L}_{s}^\\texttt{c}(\\hat{y}) = -\\texttt{c}(\\hat{y})$.\n",
    "It is a plug-and-play loss: if we have our favourite loss function $\\mathcal{L}(y, \\hat{y})$, where $y$ are the target prediction, we can combine them as $\\mathcal{L}' = \\mathcal{L}(y, \\hat{y}) + \\gamma \\mathcal{L}_{s}^\\texttt{c}(\\hat{y})$ where $\\gamma$ is the *importance* that we give to logically correct predictions. Minimizing $\\mathcal{L}'$ means finding a model that minizes our favourite loss $\\mathcal{L}$ while maximing the logical consistency of the predictions $\\hat{y}$.\n",
    "\n",
    "In this notebook, we follow one of the experiments on [(Xu et al, 2018)](https://proceedings.mlr.press/v80/xu18h.html) and implement a constraint that enforces mutual exclusivity between predictions. If we have a set $N = \\{ C_1, C_2, \\cdots, C_n \\}$ of classes, then our logic formula will look like\n",
    "\n",
    "$$\n",
    "\\alpha = (\\lor_{C \\in N} [C]) \\land (\\land_{C \\neq D \\in N } \\lnot [C] \\lor \\lnot [D])\n",
    "$$\n",
    "\n",
    "where $[C]$ is the literal that corresponds to the class $C$ in the logic formula (and the circuit $\\texttt{c}$)."
   ]
  },
  {
   "cell_type": "markdown",
   "id": "b5b4cf62",
   "metadata": {},
   "source": [
    "Let's implement the logic circuit in `cirkit` first. We first define the constraint $\\alpha$ with $|N| = 10$."
   ]
  },
  {
   "cell_type": "code",
   "execution_count": 2,
   "id": "84d239bb",
   "metadata": {},
   "outputs": [],
   "source": [
    "from operator import and_, or_\n",
    "from functools import reduce\n",
    "from itertools import combinations\n",
    "\n",
    "from pysdd.sdd import Vtree, SddManager\n",
    "\n",
    "N = 10\n",
    "\n",
    "# define the SDD literals\n",
    "vtree = Vtree(N, list(range(1, N + 1)), \"balanced\")\n",
    "manager = SddManager.from_vtree(vtree)\n",
    "alpha = reduce(or_, manager.vars) & reduce(and_, (~a | ~b for a, b in combinations(manager.vars, 2)))"
   ]
  },
  {
   "cell_type": "markdown",
   "id": "5f561daa",
   "metadata": {},
   "source": [
    "And then we compile it to a boolean circuit. Before doing so, however, we have to clarify a little bit how and why the semantic loss works. If a logic circuit is decomposable and deterministic, we can replace its conjunctions and disjunctions with products and sums and its literals with indicator functions. This is the kind of translation `cirkit` relies upon internally.\n",
    "\n",
    "Since the inner components of the circuit are sums and products, its inputs (the literals of the original logic formula) will be numbers. If we use indicator functions to model assignment to a literal, we obtain an arithmetic circuit whose support is the same as the boolean circuit. We will just have output $0$ instead of $\\bot$ (false) and $1$ instead of $\\top$ (true).\n",
    "\n",
    "Luckily, we are not forced into using indicator functions to model inputs. \n",
    "\n",
    "If the input value represents a natural number, we can compute the Weighted Model Count of a logic formula and if we choose the input value carefully, we can perform probabilistic inference [(Chavira and Darwiche, 2008)](https://www.sciencedirect.com/science/article/pii/S0004370207001889).\n",
    "\n",
    "In that case, we obtain a **probabilistic circuit** whose support is only the set of assignments that are also model for the logic formula $F$. Intuitively, we use the value $p \\in [0, 1]$ for the input $[C]$ and the value $1 - p$ for the input $[\\lnot C]$. The output of the circuit $\\texttt{c}(\\hat{y}) = 1.0$ only if $[\\hat{y}] \\models F$. Additionally, we will have that $\\texttt{c}(y) \\in [0, 1)$ is the probability that the assignment $\\hat{y}$ is a model for $F$. In other words we can evaluate the probability that the $\\hat{y}$ is consistent with the constraint imposed by $F$.\n",
    "\n",
    "Let's see how to compile $\\texttt{c}$ in `cirkit`. We first create our logic circuit and use as its inputs an `EmbeddingLayer`. Differently from the other notebooks, a `EmbeddingLayer` does not represent a tractable probability distribution, but rather assigns a tensor output to the discrete inputs to the circuit. By parameterizing the `EmbeddingLayer` through the predictions of the neural network, we delegate the responsibility of figuring out the weights of each literal to the neural network."
   ]
  },
  {
   "cell_type": "code",
   "execution_count": 6,
   "id": "88acc32a",
   "metadata": {},
   "outputs": [],
   "source": [
    "from tempfile import NamedTemporaryFile\n",
    "from cirkit.templates.logic import SDD\n",
    "from cirkit.symbolic.layers import EmbeddingLayer\n",
    "from cirkit.symbolic.parameters import Parameter, ConstantParameter\n",
    "from cirkit.symbolic.io import plot_circuit\n",
    "\n",
    "from IPython.display import Image\n",
    "\n",
    "with NamedTemporaryFile() as f:\n",
    "    # export the SDD to a file\n",
    "    alpha.save(f.name.encode())\n",
    "    f.flush()\n",
    "\n",
    "    # parse the SDD representation using the SDD class\n",
    "    alpha_sdd = SDD.from_file(f.name)\n",
    "\n",
    "    # we parameterize the input layers using embeddings\n",
    "    # this allows us to place place a single weight on each literal\n",
    "    alpha_symbolic = alpha_sdd.build_circuit(input_layer=\"embedding\")"
   ]
  },
  {
   "cell_type": "markdown",
   "id": "d7ccc611",
   "metadata": {},
   "source": [
    "We can create the propbabilistic circuit with inputs parametrized by the output of a neural network by constructing a conditional (probabilistic) circuit. A conditional circuit is a circuit where some of its parameters are parametrized through the use of a gate function [(Shao et al, 2022)](https://www.sciencedirect.com/science/article/pii/S0888613X21001766). A gate function is a general function that takes an arbitrary input and outputs a parameter for the circuit. In our case, we will only parametrize the input `EmbeddingLayer`s.\n",
    "\n",
    "We can do this in `cirkit` by using the `condition_circuit` function, which takes as input the set of layers that we wish to parametrize."
   ]
  },
  {
   "cell_type": "code",
   "execution_count": 7,
   "id": "821e0c94",
   "metadata": {},
   "outputs": [
    {
     "name": "stdout",
     "output_type": "stream",
     "text": [
      "Parameters pos.weight.0 need shape (10, 1, 2)\n",
      "Parameters neg.weight.0 need shape (10, 1, 2)\n"
     ]
    }
   ],
   "source": [
    "from cirkit.templates.logic import LiteralNode, NegatedLiteralNode\n",
    "from cirkit.symbolic.functional import condition_circuit\n",
    "\n",
    "# we enforce an order on the literals to match the order of the predictions\n",
    "parametrization_map = {\n",
    "    \"pos\": sorted(\n",
    "        (i for i in alpha_symbolic.inputs if isinstance(i.metadata[\"logic\"][\"source\"], LiteralNode)),\n",
    "        # we can access which originated this input using the metadata object of an input layer\n",
    "        key=lambda i: i.metadata[\"logic\"][\"source\"].literal,\n",
    "    ),\n",
    "    \"neg\": sorted(\n",
    "        (i for i in alpha_symbolic.inputs if isinstance(i.metadata[\"logic\"][\"source\"], NegatedLiteralNode)),\n",
    "        key=lambda i: i.metadata[\"logic\"][\"source\"].literal,\n",
    "    ),\n",
    "}\n",
    "\n",
    "# conditionally parametrize alpha by using the external gate function\n",
    "conditional_alpha_symbolic, gf_specs = condition_circuit(alpha_symbolic, gate_functions=parametrization_map)\n",
    "\n",
    "for gf_k, gf_shape in gf_specs.items():\n",
    "    print(f\"Parameters {gf_k} need shape {gf_shape}\")"
   ]
  },
  {
   "cell_type": "markdown",
   "id": "b7fb4eb5",
   "metadata": {},
   "source": [
    "Recall that the semantic loss computes the WMC of a formula parameterized by a neural network. We can perform this operation in advance on the symbolic circuit, by using the integration function provided by `cirkit`."
   ]
  },
  {
   "cell_type": "code",
   "execution_count": 8,
   "id": "d6f49fe0",
   "metadata": {},
   "outputs": [],
   "source": [
    "from cirkit.symbolic.functional import condition_circuit, integrate\n",
    "wmc_circuit = integrate(conditional_alpha_symbolic)"
   ]
  },
  {
   "cell_type": "markdown",
   "id": "4c7709fd",
   "metadata": {},
   "source": [
    "We will need two different gate functions: one parametrizing the positive literals (corresponding to the classes $N$) and one parametrizing the negated literals (corresponding to the set $\\{ \\lnot C : C \\in N \\}$). Both gate function are required to produce similar parameter. Moreover, they will both take as input the prediction $\\hat{y}$, since the parameters of $[C]$ and $[\\lnot C]$ are a function of an element in $\\hat{y}$.\n",
    "\n",
    "In `cirkit` we instruct the compiler to use our provided gate function to parametrize the input layers and regularly compile the circuit."
   ]
  },
  {
   "cell_type": "code",
   "execution_count": 9,
   "id": "ae705ea3",
   "metadata": {},
   "outputs": [],
   "source": [
    "from functools import partial\n",
    "from cirkit.pipeline import PipelineContext\n",
    "\n",
    "ctx = PipelineContext(backend=\"torch\", semiring=\"sum-product\")\n",
    "\n",
    "def literal_gf(shape, p):\n",
    "    # parameterize the positive inputs by using the output of the neural network \n",
    "    # since the embedding layers expects two states, we use the first state as\n",
    "    # a dummy one\n",
    "    p = p.unsqueeze(-1)\n",
    "    return torch.concat([torch.zeros_like(p), p], dim=-1).view(-1, *shape)\n",
    "\n",
    "# positive literals are parametrized by the raw output of the neural network\n",
    "ctx.add_gate_function(\"pos.weight.0\", partial(literal_gf, gf_specs[\"pos.weight.0\"]))\n",
    "# negative literals are parametrized by the complement of raw output of the neural network\n",
    "ctx.add_gate_function(\"neg.weight.0\", partial(literal_gf, gf_specs[\"neg.weight.0\"]))\n",
    "\n",
    "circuit = ctx.compile(wmc_circuit)"
   ]
  },
  {
   "cell_type": "markdown",
   "id": "c807a8b3",
   "metadata": {},
   "source": [
    "Let's see if if works out. Suppose the labels refer to the MNIST dataset (see the **region-graphs-and-parametrisation.ipynb** to see how images look like).\n",
    "It would not surprise us too much if some model made confusion between 4s and 9s.\n",
    "Hence, $y$ and $\\hat{y}$ might look like\n",
    "\n",
    "$$\n",
    "y = [0.0, 0.0, 0.0, 0.0, 1.0, 0.0, 0.0, 0.0, 0.0, 0.0] \\\\\n",
    "\\hat{y} = [0.0, 0.0, 0.0, 0.0, 0.7, 0.0, 0.0, 0.0, 0.0, 0.3]\n",
    "$$\n",
    "\n",
    "The model correctly predicts the correct number ($4$), but is not too confident with it. As a result, $\\hat{y}$ does satisfies the mutual exclusivity constraint with a low probability, which we can compute as $\\texttt{c}(\\hat{y})$."
   ]
  },
  {
   "cell_type": "code",
   "execution_count": 10,
   "id": "2050ef17",
   "metadata": {},
   "outputs": [
    {
     "name": "stdout",
     "output_type": "stream",
     "text": [
      "tensor([[0.5800]])\n"
     ]
    }
   ],
   "source": [
    "import torch\n",
    "y_hat = torch.tensor([0.0, 0.0, 0.0, 0.0, 0.7, 0.0, 0.0, 0.0, 0.0, 0.3]).unsqueeze(0)\n",
    "print(circuit(gate_function_kwargs={\"pos.weight.0\": {\"p\": y_hat}, \"neg.weight.0\": {\"p\": 1 - y_hat}}))"
   ]
  },
  {
   "cell_type": "markdown",
   "id": "2d2c23bd",
   "metadata": {},
   "source": [
    "Indeed, the circuit does not evaluate to $1$ since the prediction is not fully consistent with the logic circuit. However we correctly have that $\\texttt{c}(y) = 1.0$ since it satisfiess the mutual exclusivity constraint."
   ]
  },
  {
   "cell_type": "code",
   "execution_count": 11,
   "id": "c1300e23",
   "metadata": {},
   "outputs": [
    {
     "name": "stdout",
     "output_type": "stream",
     "text": [
      "tensor([[1.]])\n"
     ]
    }
   ],
   "source": [
    "y = torch.tensor([0.0, 0.0, 0.0, 0.0, 1.0, 0.0, 0.0, 0.0, 0.0, 0.0]).unsqueeze(0)\n",
    "print(circuit(gate_function_kwargs={\"pos.weight.0\": {\"p\": y}, \"neg.weight.0\": {\"p\": 1 - y}}))"
   ]
  },
  {
   "cell_type": "markdown",
   "id": "0233c8e6",
   "metadata": {},
   "source": [
    "When the model places more probability mass on the correct prediction, we have an higher probability of satisfying the constraint. We can see this by building multiple one-hot encoded prediction for a random class $i \\in N$, scale them by different factors $\\lambda$ and use a softmax activation. We obtain a probability distribution where the amount of probability mass on the prediction $i$ depends on $\\lambda$."
   ]
  },
  {
   "cell_type": "code",
   "execution_count": 12,
   "id": "50245ce2",
   "metadata": {},
   "outputs": [
    {
     "name": "stderr",
     "output_type": "stream",
     "text": [
      "/tmp/ipykernel_1583807/3088543440.py:14: UserWarning: set_ticklabels() should only be used with a fixed number of ticks, i.e. after set_ticks() or using a FixedLocator.\n",
      "  ax.set_xticklabels([f\"{x:.1f}\" for x in l[::100]])\n"
     ]
    },
    {
     "data": {
      "image/png": "[encoded data removed]",
      "text/plain": [
       "<Figure size 640x480 with 1 Axes>"
      ]
     },
     "metadata": {},
     "output_type": "display_data"
    }
   ],
   "source": [
    "import matplotlib.pyplot as plt\n",
    "\n",
    "fig, ax = plt.subplots()\n",
    "\n",
    "l = torch.linspace(0.1, 8, 1000)\n",
    "preds = torch.zeros(1000, 10)\n",
    "preds[torch.arange(1000), torch.randint(0, 10, size=(1000,))] = l\n",
    "preds = preds.softmax(dim=-1)\n",
    "\n",
    "logic_satisfaction = circuit(gate_function_kwargs={\"pos.weight.0\": {\"p\": preds}, \"neg.weight.0\": {\"p\": 1 - preds}})\n",
    "logic_satisfaction = logic_satisfaction.detach().flatten()\n",
    "\n",
    "ax.plot(l, logic_satisfaction)\n",
    "ax.set_xticklabels([f\"{x:.1f}\" for x in l[::100]])\n",
    "\n",
    "ax.set_xlabel(r\"Probability mass on correct label ($\\gamma$)\")\n",
    "ax.set_ylabel(\"Probability of logically consistent prediction\")\n",
    "plt.show()"
   ]
  },
  {
   "cell_type": "markdown",
   "id": "4418f607",
   "metadata": {},
   "source": [
    "Clearly, the more probability mass we have on the correct prediction, the more likely we are to have mutually exclusive predictions. Enforcing mutual exclusivity forces a model to be more confident in its predictions.\n",
    "\n",
    "We can see if this enhances the performances of a neural network on a classification task. We will try to solve the classic MNIST benchmark by using a neural network with one hidden layer. We will use a small neural network composed of an MLP with one hidden layer with $256$ hidden dimensions and a ReLU activation. This will allow us to see if, alongside obtaining consistent prediction, semantic loss allows a model to build more effective decision boundaries.\n",
    "\n",
    "We will experiment in semi-supervised setting: can we exploit just few labels to generalize to the entire dataset?\n",
    "We will do so by considering each label independently, and hence train by using binary cross entropy as loss $\\mathcal{L}$ with a sigmoid activation on the final state of the MLP. \n",
    "\n",
    "We will randomly remove the label to a sample with probability $0.9999$. Hence we will end up training on a very small set of samples. In the standard setting, this does not make too much difference than training on a bigger dataset.\n",
    "\n",
    "When enforcing constraints, however, we can still compute the semantic loss over samples without any label! This will make sure the model is confident on its prediction, even though we cannot really tell it if its prediction is the right one. \n",
    "\n",
    "We will use $\\gamma = 0.005$ as the semantic loss weight."
   ]
  },
  {
   "cell_type": "code",
   "execution_count": 16,
   "id": "d2695d63",
   "metadata": {},
   "outputs": [],
   "source": [
    "from torch import optim\n",
    "from torch import nn\n",
    "from torch.utils.data import DataLoader\n",
    "from torchvision import datasets\n",
    "from torchvision.transforms import v2\n",
    "\n",
    "class SemisupervisedMNIST(datasets.MNIST):\n",
    "    def __init__(self, *args, **kwargs):\n",
    "        super().__init__(*args, **kwargs)\n",
    "        \n",
    "        # mantain label of some samples\n",
    "        self._supervised_idxs = torch.rand(len(self)) <= 0.01\n",
    "    \n",
    "    def __getitem__(self, idx: int):\n",
    "        sample, label = super().__getitem__(idx)\n",
    "        return sample, label, self._supervised_idxs[idx]\n",
    "\n",
    "# Load the MNIST data set and data loaders\n",
    "transform = v2.Compose([v2.ToImage(), v2.ToDtype(torch.float32, scale=True)])\n",
    "data_train = SemisupervisedMNIST('datasets', train=True, download=True, transform=transform)\n",
    "data_test = SemisupervisedMNIST('datasets', train=False, download=True, transform=transform)\n",
    "\n",
    "# Instantiate the training and testing data loaders\n",
    "train_dataloader = DataLoader(data_train, shuffle=True, batch_size=256)\n",
    "test_dataloader = DataLoader(data_test, shuffle=False, batch_size=256)\n",
    "\n",
    "mlp = nn.Sequential(\n",
    "    nn.Flatten(),\n",
    "    nn.Linear(28 * 28, 256),\n",
    "    nn.ReLU(),\n",
    "    nn.Linear(256, 10),\n",
    "    nn.Sigmoid()\n",
    ").to(device)\n",
    "\n",
    "# Initialize a torch optimizer of your choice\n",
    "optimizer = optim.Adam(mlp.parameters(), lr=0.001)\n",
    "\n",
    "# move circuit to device\n",
    "circuit = circuit.to(device)"
   ]
  },
  {
   "cell_type": "markdown",
   "id": "2c4bbfca",
   "metadata": {},
   "source": [
    "We first evaluate how the MLP model performs on the task without any semantic loss. At each epoch we evaluate the accuracy of the predictions as well as the average probability of the predictions being consistent with $F$."
   ]
  },
  {
   "cell_type": "code",
   "execution_count": 17,
   "id": "d801ceff",
   "metadata": {},
   "outputs": [
    {
     "name": "stdout",
     "output_type": "stream",
     "text": [
      "Epoch: 0 | Accuracy: 0.726 | Consistent accuracy: 0.525\n",
      "Epoch: 1 | Accuracy: 0.753 | Consistent accuracy: 0.598\n",
      "Epoch: 2 | Accuracy: 0.818 | Consistent accuracy: 0.665\n",
      "Epoch: 3 | Accuracy: 0.874 | Consistent accuracy: 0.711\n",
      "Epoch: 4 | Accuracy: 0.874 | Consistent accuracy: 0.748\n",
      "Epoch: 5 | Accuracy: 0.878 | Consistent accuracy: 0.767\n",
      "Epoch: 6 | Accuracy: 0.880 | Consistent accuracy: 0.783\n",
      "Epoch: 7 | Accuracy: 0.875 | Consistent accuracy: 0.793\n",
      "Epoch: 8 | Accuracy: 0.884 | Consistent accuracy: 0.811\n",
      "Epoch: 9 | Accuracy: 0.885 | Consistent accuracy: 0.817\n"
     ]
    }
   ],
   "source": [
    "num_epochs = 10\n",
    "respects_mutex = 0.0\n",
    "correct_predictions = 0.0\n",
    "running_samples = 0\n",
    "\n",
    "for epoch_idx in range(num_epochs):\n",
    "    for i, (x, y, supervised) in enumerate(train_dataloader):\n",
    "        # compute the predictions using the MLP\n",
    "        pred = mlp(x.to(device))\n",
    "\n",
    "        # on the baseline, our loss is simply cross entropy\n",
    "        # only compute loss on supervised examples\n",
    "        loss = torch.nn.functional.binary_cross_entropy(\n",
    "            pred[supervised], \n",
    "            torch.nn.functional.one_hot(y[supervised], num_classes=10).float().to(device)\n",
    "        )\n",
    "\n",
    "        # Update the parameters of the circuits, as any other model in PyTorch\n",
    "        loss.backward()\n",
    "        optimizer.step()\n",
    "        optimizer.zero_grad()\n",
    "        \n",
    "    # compute the accuracy and logical correctness on the testing set\n",
    "    correct_predictions = 0.0\n",
    "    logically_correct_predictions = 0.0\n",
    "    for x, y, _ in test_dataloader:\n",
    "        with torch.no_grad():\n",
    "            pred = mlp(x.to(device))\n",
    "            correct_predictions += (pred.argmax(dim=-1) == y.to(device)).sum()\n",
    "\n",
    "            # we compute the logical consistency of the predictions by measuring the probability\n",
    "            # that they satisfy the logic formula\n",
    "            logically_correct_predictions += circuit(\n",
    "                gate_function_kwargs={\n",
    "                    \"pos.weight.0\": {\"p\": pred}, \n",
    "                    \"neg.weight.0\": {\"p\": 1 - pred}}\n",
    "            ).sum().cpu().item()\n",
    "    \n",
    "    logic_accuracy = logically_correct_predictions / len(data_test)\n",
    "    accuracy = correct_predictions / len(data_test)\n",
    "    print(f\"Epoch: {epoch_idx} | Accuracy: {accuracy:.3f} | Consistent accuracy: {logic_accuracy:.3f}\")"
   ]
  },
  {
   "cell_type": "markdown",
   "id": "0e0c389c",
   "metadata": {},
   "source": [
    "Of course the model achieves some level of logical consistency, but it is not a priority. Let's see what happens when we explicitly enforce mutual exclusivity."
   ]
  },
  {
   "cell_type": "code",
   "execution_count": 18,
   "id": "52198d44",
   "metadata": {},
   "outputs": [
    {
     "name": "stdout",
     "output_type": "stream",
     "text": [
      "Epoch: 0 | Accuracy: 0.768 | Consistent accuracy: 0.715\n",
      "Epoch: 1 | Accuracy: 0.872 | Consistent accuracy: 0.807\n",
      "Epoch: 2 | Accuracy: 0.880 | Consistent accuracy: 0.849\n",
      "Epoch: 3 | Accuracy: 0.891 | Consistent accuracy: 0.867\n",
      "Epoch: 4 | Accuracy: 0.883 | Consistent accuracy: 0.872\n",
      "Epoch: 5 | Accuracy: 0.901 | Consistent accuracy: 0.895\n",
      "Epoch: 6 | Accuracy: 0.906 | Consistent accuracy: 0.906\n",
      "Epoch: 7 | Accuracy: 0.912 | Consistent accuracy: 0.914\n",
      "Epoch: 8 | Accuracy: 0.912 | Consistent accuracy: 0.917\n",
      "Epoch: 9 | Accuracy: 0.916 | Consistent accuracy: 0.924\n"
     ]
    }
   ],
   "source": [
    "# reset the parameters of the MLP\n",
    "for layer in mlp:\n",
    "    if len(list(layer.parameters())) > 0:\n",
    "        layer.reset_parameters()\n",
    "\n",
    "respects_mutex = 0.0\n",
    "correct_predictions = 0.0\n",
    "\n",
    "losses = []\n",
    "for epoch_idx in range(num_epochs):\n",
    "    for i, (x, y, supervised) in enumerate(train_dataloader):\n",
    "        # compute predictions and cross entropy loss as in the baseline\n",
    "        pred = mlp(x.to(device))        \n",
    "        loss = torch.nn.functional.binary_cross_entropy(\n",
    "            pred[supervised], \n",
    "            torch.nn.functional.one_hot(y[supervised], num_classes=10).float().to(device)\n",
    "        )\n",
    "\n",
    "        # and compute the semantic loss on all examples, we are not restricted to supervised ones\n",
    "        semantic_loss = circuit(\n",
    "            gate_function_kwargs={\n",
    "                'pos.weight.0': {'p': pred}, \n",
    "                'neg.weight.0': {'p': 1 - pred}\n",
    "        }).mean()\n",
    "        \n",
    "        # the overall loss is a simple combination of loss and semantic loss\n",
    "        losses.append((loss, semantic_loss))\n",
    "        loss = loss - (0.5 * semantic_loss)\n",
    "\n",
    "        loss.backward()\n",
    "        optimizer.step()\n",
    "        optimizer.zero_grad()\n",
    "\n",
    "    correct_predictions = 0.0\n",
    "    logically_correct_predictions = 0.0\n",
    "    for x, y, _ in test_dataloader:\n",
    "        with torch.no_grad():\n",
    "            pred = mlp(x.to(device))\n",
    "            correct_predictions += (pred.argmax(dim=-1) == y.to(device)).sum()\n",
    "            \n",
    "            logically_correct_predictions += circuit(\n",
    "                gate_function_kwargs={\n",
    "                    'pos.weight.0': {'p': pred}, \n",
    "                    'neg.weight.0': {'p': 1 - pred}\n",
    "            }).sum().item()\n",
    "\n",
    "    logic_accuracy = logically_correct_predictions / len(data_test)\n",
    "    accuracy = correct_predictions / len(data_test)\n",
    "    print(f\"Epoch: {epoch_idx} | Accuracy: {accuracy:.3f} | Consistent accuracy: {logic_accuracy:.3f}\")"
   ]
  },
  {
   "cell_type": "markdown",
   "id": "19fca153",
   "metadata": {},
   "source": [
    "The model's predictions are more consistent with the constraint, however the model has to balance between optimizing weights for correct or consistent predictions.\n",
    "\n",
    "The parameter $\\gamma$ plays a big role on balancing the trade-off between accurate predictions and logically consistent predictions. Try different values to see if you can find a sweet spot. For comparison, the original semantic loss paper uses small weights for $\\mathcal{L}_{SL}$ with $\\lambda = 0.005$."
   ]
  }
 ],
 "metadata": {
  "kernelspec": {
   "display_name": "cirkit",
   "language": "python",
   "name": "python3"
  },
  "language_info": {
   "codemirror_mode": {
    "name": "ipython",
    "version": 3
   },
   "file_extension": ".py",
   "mimetype": "text/x-python",
   "name": "python",
   "nbconvert_exporter": "python",
   "pygments_lexer": "ipython3",
   "version": "3.12.0"
  }
 },
 "nbformat": 4,
 "nbformat_minor": 5
}
