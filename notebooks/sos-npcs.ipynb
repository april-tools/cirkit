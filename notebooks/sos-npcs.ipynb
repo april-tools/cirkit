{
 "cells": [
  {
   "cell_type": "markdown",
   "id": "97f3b03e-0aa7-4fa9-ad37-21a141f4a1a1",
   "metadata": {},
   "source": [
    "# Train and Evaluate a Sum-of-Squares non-monotonic PC"
   ]
  },
  {
   "cell_type": "code",
   "execution_count": 1,
   "id": "498b64a5-86bf-45c7-b65c-6c010a9b4a82",
   "metadata": {},
   "outputs": [],
   "source": [
    "import time\n",
    "import random\n",
    "import numpy as np"
   ]
  },
  {
   "cell_type": "markdown",
   "id": "48e26e8e-8c76-43ce-90db-87da5d8eb39a",
   "metadata": {},
   "source": [
    "Set the random seeds."
   ]
  },
  {
   "cell_type": "code",
   "execution_count": 2,
   "id": "63dd05c5-f4ea-459a-b2fb-75d976f50afe",
   "metadata": {},
   "outputs": [],
   "source": [
    "random.seed(42)\n",
    "np.random.seed(42)"
   ]
  },
  {
   "cell_type": "markdown",
   "id": "9d389743-936c-49a8-9ef8-f5c55be758a5",
   "metadata": {},
   "source": [
    "# Load the MiniBooNE UCI data set"
   ]
  },
  {
   "cell_type": "code",
   "execution_count": 3,
   "id": "61b76039-c260-4b43-88e2-e3e8875206bf",
   "metadata": {},
   "outputs": [],
   "source": [
    "from datasets import load_uci_dataset"
   ]
  },
  {
   "cell_type": "code",
   "execution_count": 4,
   "id": "b153dc84-3e0b-463a-99b0-2b7e09a388af",
   "metadata": {},
   "outputs": [
    {
     "name": "stdout",
     "output_type": "stream",
     "text": [
      "Number of variables: 43\n"
     ]
    }
   ],
   "source": [
    "data = load_uci_dataset('miniboone', path='datasets')\n",
    "data_train, data_test = data['train'], data['test']\n",
    "num_variables = data_train.shape[1]\n",
    "print(f'Number of variables: {num_variables}')"
   ]
  },
  {
   "cell_type": "markdown",
   "id": "611257b5-8c18-4f1d-8316-3c898f2e6035",
   "metadata": {},
   "source": [
    "# Create the Sum-of-Squares PC class"
   ]
  },
  {
   "cell_type": "code",
   "execution_count": 5,
   "id": "47d881c2-76a8-414e-b793-ec1579a4c302",
   "metadata": {},
   "outputs": [],
   "source": [
    "from typing import Tuple"
   ]
  },
  {
   "cell_type": "code",
   "execution_count": 6,
   "id": "2c130bf8-f85f-49ae-b76a-137af08b5053",
   "metadata": {},
   "outputs": [],
   "source": [
    "import torch\n",
    "from torch import nn, Tensor\n",
    "device = torch.device('cuda')  # The device to use\n",
    "torch.manual_seed(42)\n",
    "torch.cuda.manual_seed(42)\n",
    "# Extend the default cache limit. In the future, torch will support compilation with 'more dynamic shapes',\n",
    "# and therefore many recompilations will be avoided\n",
    "torch._dynamo.config.cache_size_limit = 32"
   ]
  },
  {
   "cell_type": "code",
   "execution_count": 7,
   "id": "56710714-ada3-4ace-b816-02788afe7a8d",
   "metadata": {},
   "outputs": [],
   "source": [
    "from cirkit.templates.region_graph import RegionGraph, RandomBinaryTree\n",
    "from cirkit.pipeline import PipelineContext\n",
    "from cirkit.symbolic.circuit import Circuit\n",
    "from cirkit.utils.scope import Scope\n",
    "from cirkit.symbolic.layers import GaussianLayer, DenseLayer, HadamardLayer\n",
    "from cirkit.symbolic.parameters import Parameter, SoftmaxParameter, ScaledSigmoidParameter, TensorParameter\n",
    "from cirkit.symbolic.initializers import UniformInitializer, NormalInitializer\n",
    "import cirkit.symbolic.functional as SF\n",
    "from cirkit.backend.torch.circuits import TorchCircuit\n",
    "from cirkit.backend.torch.layers.inner import TorchMixingLayer"
   ]
  },
  {
   "cell_type": "code",
   "execution_count": 8,
   "id": "2ed44de1-052a-491b-98d7-2c638d7e090a",
   "metadata": {},
   "outputs": [],
   "source": [
    "class SOS(nn.Module):\n",
    "    def __init__(\n",
    "        self,\n",
    "        num_variables: int,\n",
    "        *,\n",
    "        num_input_units: int,\n",
    "        num_sum_units: int,\n",
    "        num_squares: int = 2,\n",
    "        seed: int = 42,\n",
    "        optimize: bool = False\n",
    "    ) -> None:\n",
    "        assert num_variables > 1\n",
    "        assert num_squares > 1\n",
    "        super().__init__()\n",
    "        max_depth = int(np.ceil(np.log2(num_variables)))\n",
    "        self._rgs = [\n",
    "            SOS._build_region_graph(num_variables, max_depth, seed=seed + i * 123)\n",
    "            for i in range(num_squares)\n",
    "        ]\n",
    "        self._ctx = PipelineContext(backend='torch', semiring='complex-lse-sum', fold=True, optimize=optimize)\n",
    "        circuit, int_sq_circuit = self.build_circuits(\n",
    "            num_input_units=num_input_units, num_sum_units=num_sum_units\n",
    "        )\n",
    "        self._circuit = circuit\n",
    "        self._int_sq_circuit = int_sq_circuit\n",
    "        self.register_buffer('_mixing_log_weight', -torch.log(torch.tensor(num_squares)))\n",
    "        self.__cache_log_z: Optional[Tensor] = None\n",
    "\n",
    "    def train(self, mode: bool = True):\n",
    "        if mode:\n",
    "            self.__cache_log_z = None\n",
    "        else:\n",
    "            with torch.no_grad():\n",
    "                self.__cache_log_z = self._int_sq_circuit().real\n",
    "        super().train(mode)\n",
    "    \n",
    "    def forward(self, x: Tensor) -> Tensor:\n",
    "        log_score = 2.0 * self._circuit(x).real\n",
    "        return torch.logsumexp(self._mixing_log_weight + log_score, dim=1)\n",
    "\n",
    "    def log_likelihood(self, x: Tensor) -> Tensor:\n",
    "        if self.__cache_log_z is None:\n",
    "            log_z = self._int_sq_circuit().real\n",
    "        else:\n",
    "            log_z = self.__cache_log_z\n",
    "        log_z = torch.logsumexp(self._mixing_log_weight + log_z, dim=0)\n",
    "        log_score = self.forward(x)\n",
    "        return log_score - log_z\n",
    "\n",
    "    def build_circuits(\n",
    "        self, num_input_units: int, num_sum_units: int,\n",
    "    ) -> Tuple[TorchCircuit, TorchCircuit, TorchMixingLayer]:\n",
    "        # Build one symbolic circuit for each region graph\n",
    "        symbolic_circuits = [\n",
    "            SOS._build_symbolic_circuit(rg, num_input_units=num_input_units, num_sum_units=num_sum_units)\n",
    "            for rg in self._rgs\n",
    "        ]\n",
    "\n",
    "        # Merge the symbolic circuits into a single one having multiple outputs\n",
    "        symbolic_circuit = SF.merge(symbolic_circuits)\n",
    "\n",
    "        # Square each symbolic circuit and merge them into a single one having multiple outputs\n",
    "        symbolic_sq_circuit = SF.merge([\n",
    "            SF.multiply(sc, sc) for sc in symbolic_circuits\n",
    "        ])\n",
    "\n",
    "        # Integrate the squared circuits (by integrating the merged symbolic representation)\n",
    "        symbolic_int_sq_circuit = SF.integrate(symbolic_sq_circuit)\n",
    "\n",
    "        # Compile the symbolic circuits\n",
    "        circuit = self._ctx.compile(symbolic_circuit)\n",
    "        int_sq_circuit = self._ctx.compile(symbolic_int_sq_circuit)\n",
    "\n",
    "        return circuit, int_sq_circuit\n",
    "    \n",
    "    def _build_region_graph(num_variables:int, depth: int, seed: int = 42) -> RegionGraph:\n",
    "        return RandomBinaryTree(num_variables, depth=depth, seed=seed)\n",
    "\n",
    "    def _build_symbolic_circuit(rg: RegionGraph, *, num_input_units: int, num_sum_units: int) -> Circuit:\n",
    "        def gaussian_layer_factory(\n",
    "            scope: Scope,\n",
    "            num_units: int,\n",
    "            num_channels: int\n",
    "        ) -> GaussianLayer:\n",
    "            return GaussianLayer(\n",
    "                scope, num_units, num_channels,\n",
    "                stddev_factory=lambda shape: Parameter.from_sequence(\n",
    "                    TensorParameter(*shape, initializer=NormalInitializer(0.0, 1e-1)),\n",
    "                    ScaledSigmoidParameter(shape, vmin=1e-5, vmax=1.0)\n",
    "                )\n",
    "            )\n",
    "\n",
    "        def hadamard_layer_factory(\n",
    "            scope: Scope, num_input_units: int, arity: int\n",
    "        ) -> HadamardLayer:\n",
    "            return HadamardLayer(scope, num_input_units, arity)\n",
    "\n",
    "        def dense_layer_factory(\n",
    "            scope: Scope,\n",
    "            num_input_units: int,\n",
    "            num_output_units: int\n",
    "        ) -> DenseLayer:\n",
    "            return DenseLayer(\n",
    "                scope, num_input_units, num_output_units,\n",
    "                weight_factory=lambda shape: Parameter.from_leaf(\n",
    "                    TensorParameter(*shape, initializer=UniformInitializer(0.0, 1.0))\n",
    "                )\n",
    "            )\n",
    "\n",
    "        return Circuit.from_region_graph(\n",
    "            rg,\n",
    "            num_input_units=num_input_units,\n",
    "            num_sum_units=num_sum_units,\n",
    "            input_factory=gaussian_layer_factory,\n",
    "            sum_factory=dense_layer_factory,\n",
    "            prod_factory=hadamard_layer_factory\n",
    "        )"
   ]
  },
  {
   "cell_type": "code",
   "execution_count": 9,
   "id": "bf0bd994-1181-4724-acbe-f12bce3d1875",
   "metadata": {
    "scrolled": true
   },
   "outputs": [],
   "source": [
    "sos = SOS(\n",
    "    num_variables,\n",
    "    num_input_units=32,\n",
    "    num_sum_units=32,\n",
    "    num_squares=8\n",
    ")"
   ]
  },
  {
   "cell_type": "code",
   "execution_count": 10,
   "id": "4b83e425-d154-474e-af6e-86d34295690c",
   "metadata": {
    "scrolled": true
   },
   "outputs": [
    {
     "name": "stdout",
     "output_type": "stream",
     "text": [
      "SOS(\n",
      "  (_circuit): TorchCircuit(\n",
      "    (_nodes): ModuleList(\n",
      "      (0): TorchGaussianLayer(\n",
      "        (mean): TorchParameter(\n",
      "          (_nodes): ModuleList(\n",
      "            (0-7): 8 x TorchPointerParameter(\n",
      "              (_parameter): TorchTensorParameter()\n",
      "            )\n",
      "          )\n",
      "        )\n",
      "        (stddev): TorchParameter(\n",
      "          (_nodes): ModuleList(\n",
      "            (0-7): 8 x TorchPointerParameter(\n",
      "              (_parameter): TorchTensorParameter()\n",
      "            )\n",
      "            (8): TorchScaledSigmoidParameter()\n",
      "          )\n",
      "        )\n",
      "      )\n",
      "      (1): TorchDenseLayer(\n",
      "        (weight): TorchParameter(\n",
      "          (_nodes): ModuleList(\n",
      "            (0-7): 8 x TorchPointerParameter(\n",
      "              (_parameter): TorchTensorParameter()\n",
      "            )\n",
      "          )\n",
      "        )\n",
      "      )\n",
      "      (2): TorchHadamardLayer()\n",
      "      (3): TorchDenseLayer(\n",
      "        (weight): TorchParameter(\n",
      "          (_nodes): ModuleList(\n",
      "            (0-7): 8 x TorchPointerParameter(\n",
      "              (_parameter): TorchTensorParameter()\n",
      "            )\n",
      "          )\n",
      "        )\n",
      "      )\n",
      "      (4): TorchHadamardLayer()\n",
      "      (5): TorchDenseLayer(\n",
      "        (weight): TorchParameter(\n",
      "          (_nodes): ModuleList(\n",
      "            (0-7): 8 x TorchPointerParameter(\n",
      "              (_parameter): TorchTensorParameter()\n",
      "            )\n",
      "          )\n",
      "        )\n",
      "      )\n",
      "      (6): TorchHadamardLayer()\n",
      "      (7): TorchDenseLayer(\n",
      "        (weight): TorchParameter(\n",
      "          (_nodes): ModuleList(\n",
      "            (0-7): 8 x TorchPointerParameter(\n",
      "              (_parameter): TorchTensorParameter()\n",
      "            )\n",
      "          )\n",
      "        )\n",
      "      )\n",
      "      (8): TorchHadamardLayer()\n",
      "      (9): TorchDenseLayer(\n",
      "        (weight): TorchParameter(\n",
      "          (_nodes): ModuleList(\n",
      "            (0-7): 8 x TorchPointerParameter(\n",
      "              (_parameter): TorchTensorParameter()\n",
      "            )\n",
      "          )\n",
      "        )\n",
      "      )\n",
      "      (10): TorchHadamardLayer()\n",
      "      (11): TorchDenseLayer(\n",
      "        (weight): TorchParameter(\n",
      "          (_nodes): ModuleList(\n",
      "            (0-7): 8 x TorchPointerParameter(\n",
      "              (_parameter): TorchTensorParameter()\n",
      "            )\n",
      "          )\n",
      "        )\n",
      "      )\n",
      "      (12): TorchHadamardLayer()\n",
      "      (13): TorchDenseLayer(\n",
      "        (weight): TorchParameter(\n",
      "          (_nodes): ModuleList(\n",
      "            (0-7): 8 x TorchPointerParameter(\n",
      "              (_parameter): TorchTensorParameter()\n",
      "            )\n",
      "          )\n",
      "        )\n",
      "      )\n",
      "    )\n",
      "  )\n",
      "  (_int_sq_circuit): TorchConstantCircuit(\n",
      "    (_nodes): ModuleList(\n",
      "      (0): TorchLogPartitionLayer(\n",
      "        (value): TorchParameter(\n",
      "          (_nodes): ModuleList(\n",
      "            (0-15): 16 x TorchPointerParameter(\n",
      "              (_parameter): TorchTensorParameter()\n",
      "            )\n",
      "            (16): TorchScaledSigmoidParameter()\n",
      "            (17): TorchGaussianProductLogPartition()\n",
      "            (18-19): 2 x TorchReduceSumParameter()\n",
      "          )\n",
      "        )\n",
      "      )\n",
      "      (1): TorchDenseLayer(\n",
      "        (weight): TorchParameter(\n",
      "          (_nodes): ModuleList(\n",
      "            (0-7): 8 x TorchPointerParameter(\n",
      "              (_parameter): TorchTensorParameter()\n",
      "            )\n",
      "            (8): TorchKroneckerParameter()\n",
      "          )\n",
      "        )\n",
      "      )\n",
      "      (2): TorchHadamardLayer()\n",
      "      (3): TorchDenseLayer(\n",
      "        (weight): TorchParameter(\n",
      "          (_nodes): ModuleList(\n",
      "            (0-7): 8 x TorchPointerParameter(\n",
      "              (_parameter): TorchTensorParameter()\n",
      "            )\n",
      "            (8): TorchKroneckerParameter()\n",
      "          )\n",
      "        )\n",
      "      )\n",
      "      (4): TorchHadamardLayer()\n",
      "      (5): TorchDenseLayer(\n",
      "        (weight): TorchParameter(\n",
      "          (_nodes): ModuleList(\n",
      "            (0-7): 8 x TorchPointerParameter(\n",
      "              (_parameter): TorchTensorParameter()\n",
      "            )\n",
      "            (8): TorchKroneckerParameter()\n",
      "          )\n",
      "        )\n",
      "      )\n",
      "      (6): TorchHadamardLayer()\n",
      "      (7): TorchDenseLayer(\n",
      "        (weight): TorchParameter(\n",
      "          (_nodes): ModuleList(\n",
      "            (0-7): 8 x TorchPointerParameter(\n",
      "              (_parameter): TorchTensorParameter()\n",
      "            )\n",
      "            (8): TorchKroneckerParameter()\n",
      "          )\n",
      "        )\n",
      "      )\n",
      "      (8): TorchHadamardLayer()\n",
      "      (9): TorchDenseLayer(\n",
      "        (weight): TorchParameter(\n",
      "          (_nodes): ModuleList(\n",
      "            (0-7): 8 x TorchPointerParameter(\n",
      "              (_parameter): TorchTensorParameter()\n",
      "            )\n",
      "            (8): TorchKroneckerParameter()\n",
      "          )\n",
      "        )\n",
      "      )\n",
      "      (10): TorchHadamardLayer()\n",
      "      (11): TorchDenseLayer(\n",
      "        (weight): TorchParameter(\n",
      "          (_nodes): ModuleList(\n",
      "            (0-7): 8 x TorchPointerParameter(\n",
      "              (_parameter): TorchTensorParameter()\n",
      "            )\n",
      "            (8): TorchKroneckerParameter()\n",
      "          )\n",
      "        )\n",
      "      )\n",
      "      (12): TorchHadamardLayer()\n",
      "      (13): TorchDenseLayer(\n",
      "        (weight): TorchParameter(\n",
      "          (_nodes): ModuleList(\n",
      "            (0-7): 8 x TorchPointerParameter(\n",
      "              (_parameter): TorchTensorParameter()\n",
      "            )\n",
      "            (8): TorchKroneckerParameter()\n",
      "          )\n",
      "        )\n",
      "      )\n",
      "    )\n",
      "  )\n",
      ")\n"
     ]
    }
   ],
   "source": [
    "print(sos)"
   ]
  },
  {
   "cell_type": "markdown",
   "id": "25f6510a-0631-4770-9002-9431f126bb9d",
   "metadata": {},
   "source": [
    "## Training and Testing"
   ]
  },
  {
   "cell_type": "markdown",
   "id": "7c3c644c-ac45-4156-b1f5-391585ea34c7",
   "metadata": {},
   "source": [
    "We are not ready to learn the parameters and do inference.\n",
    "First, we wrap our data into PyTorch data loaders by specifying the batch size.\n",
    "Then, we initialize any PyTorch optimizer, e.g., Adam.\n",
    "\n",
    "Note that the parameters of the integral squared circuit are the same parameters of the circuit itself."
   ]
  },
  {
   "cell_type": "code",
   "execution_count": 11,
   "id": "5a0f61c6-7564-4c3b-8612-e02a52160d12",
   "metadata": {},
   "outputs": [],
   "source": [
    "from torch import optim\n",
    "from torch.utils.data import DataLoader"
   ]
  },
  {
   "cell_type": "code",
   "execution_count": 12,
   "id": "ea7b248b-802e-4f22-9849-2b5fe304b019",
   "metadata": {},
   "outputs": [],
   "source": [
    "train_dataloader = DataLoader(data_train, shuffle=True, batch_size=512, drop_last=True, num_workers=4)\n",
    "test_dataloader = DataLoader(data_test, shuffle=False, batch_size=512, num_workers=4)\n",
    "optimizer = optim.Adam(sos.parameters(), lr=1e-2)"
   ]
  },
  {
   "cell_type": "code",
   "execution_count": 13,
   "id": "ee8840b0-617c-4881-8753-313b1491f13b",
   "metadata": {},
   "outputs": [],
   "source": [
    "# Move circuit to device\n",
    "sos = sos.to(device)"
   ]
  },
  {
   "cell_type": "code",
   "execution_count": 14,
   "id": "7ecae2ef-9417-4cc8-8171-805d3e508b97",
   "metadata": {},
   "outputs": [],
   "source": [
    "import time"
   ]
  },
  {
   "cell_type": "code",
   "execution_count": 15,
   "id": "13f65113-023f-4e9f-922a-e7202de5bb43",
   "metadata": {},
   "outputs": [
    {
     "name": "stdout",
     "output_type": "stream",
     "text": [
      "Epoch 5, step 300: Average NLL: 47.161\n",
      "Epoch 10, step 600: Average NLL: 39.575\n",
      "Epoch 15, step 900: Average NLL: 38.443\n",
      "Epoch 21, step 1200: Average NLL: 37.760\n",
      "Training time: 224.2 seconds\n"
     ]
    }
   ],
   "source": [
    "sos.train()\n",
    "start_time = time.perf_counter()\n",
    "num_epochs = 25\n",
    "step_idx = 0\n",
    "running_loss = 0.0\n",
    "for epoch_idx in range(num_epochs):\n",
    "    for i, batch in enumerate(train_dataloader):\n",
    "        batch = batch.to(device).unsqueeze(dim=1)   # Add a channel dimension\n",
    "        lls = sos.log_likelihood(batch)             # Compute the log-likelihood\n",
    "        loss = -torch.mean(lls)   # The loss is the negative average log-likelihood\n",
    "        loss.backward()\n",
    "        optimizer.step()\n",
    "        optimizer.zero_grad()\n",
    "        running_loss += loss.detach() * len(batch)\n",
    "        step_idx += 1\n",
    "        if step_idx % 300 == 0:\n",
    "            print(f\"Epoch {epoch_idx}, step {step_idx}: Average NLL: {running_loss / (300 * len(batch)):.3f}\")\n",
    "            running_loss = 0.0\n",
    "end_time = time.perf_counter()\n",
    "print(f\"Training time: {end_time - start_time:.1f} seconds\")"
   ]
  },
  {
   "cell_type": "markdown",
   "id": "9d0dcab9-dbde-4a22-9aa3-f235ca98fe58",
   "metadata": {},
   "source": [
    "Next, we check the likelihood on the test data."
   ]
  },
  {
   "cell_type": "code",
   "execution_count": 16,
   "id": "b712e5df-4ad2-4ae1-a7e3-f0c1df7db254",
   "metadata": {},
   "outputs": [
    {
     "name": "stdout",
     "output_type": "stream",
     "text": [
      "Average test LL: -37.120\n"
     ]
    }
   ],
   "source": [
    "sos.eval()\n",
    "with torch.no_grad():\n",
    "   test_lls = 0.0\n",
    "   for batch in test_dataloader:\n",
    "       batch = batch.to(device).unsqueeze(dim=1)   # Add a channel dimension\n",
    "       lls = sos.log_likelihood(batch)             # Compute the log-likelihood\n",
    "       test_lls += lls.sum().item()\n",
    "   average_ll = test_lls / len(data_test)\n",
    "   print(f\"Average test LL: {average_ll:.3f}\")"
   ]
  },
  {
   "cell_type": "markdown",
   "id": "91b0d955-a7c8-45fb-80f5-a448602c435a",
   "metadata": {},
   "source": [
    "# Bonus: Optimize your Circuit"
   ]
  },
  {
   "cell_type": "code",
   "execution_count": 17,
   "id": "5a0905dc-c7a6-4b37-a364-8824489542b3",
   "metadata": {},
   "outputs": [],
   "source": [
    "import torch\n",
    "from torch import nn, Tensor\n",
    "device = torch.device('cuda')  # The device to use\n",
    "torch.manual_seed(42)\n",
    "torch.cuda.manual_seed(42)"
   ]
  },
  {
   "cell_type": "code",
   "execution_count": 18,
   "id": "f7827e48-9a62-4ac6-8b06-3f81c8f7d1b8",
   "metadata": {},
   "outputs": [],
   "source": [
    "sos = SOS(\n",
    "    num_variables,\n",
    "    num_input_units=32,\n",
    "    num_sum_units=32,\n",
    "    num_squares=8,\n",
    "    optimize=True\n",
    ")"
   ]
  },
  {
   "cell_type": "code",
   "execution_count": 19,
   "id": "8116b368-fbfe-4507-8113-0d643d025b62",
   "metadata": {
    "scrolled": true
   },
   "outputs": [
    {
     "name": "stdout",
     "output_type": "stream",
     "text": [
      "SOS(\n",
      "  (_circuit): TorchCircuit(\n",
      "    (_nodes): ModuleList(\n",
      "      (0): TorchGaussianLayer(\n",
      "        (mean): TorchParameter(\n",
      "          (_nodes): ModuleList(\n",
      "            (0-7): 8 x TorchPointerParameter(\n",
      "              (_parameter): TorchTensorParameter()\n",
      "            )\n",
      "          )\n",
      "        )\n",
      "        (stddev): TorchParameter(\n",
      "          (_nodes): ModuleList(\n",
      "            (0-7): 8 x TorchPointerParameter(\n",
      "              (_parameter): TorchTensorParameter()\n",
      "            )\n",
      "            (8): TorchScaledSigmoidParameter()\n",
      "          )\n",
      "        )\n",
      "      )\n",
      "      (1): TorchDenseLayer(\n",
      "        (weight): TorchParameter(\n",
      "          (_nodes): ModuleList(\n",
      "            (0-7): 8 x TorchPointerParameter(\n",
      "              (_parameter): TorchTensorParameter()\n",
      "            )\n",
      "          )\n",
      "        )\n",
      "      )\n",
      "      (2-7): 6 x TorchCPLayer(\n",
      "        (weight): TorchParameter(\n",
      "          (_nodes): ModuleList(\n",
      "            (0-7): 8 x TorchPointerParameter(\n",
      "              (_parameter): TorchTensorParameter()\n",
      "            )\n",
      "          )\n",
      "        )\n",
      "      )\n",
      "    )\n",
      "  )\n",
      "  (_int_sq_circuit): TorchConstantCircuit(\n",
      "    (_nodes): ModuleList(\n",
      "      (0): TorchLogPartitionLayer(\n",
      "        (value): TorchParameter(\n",
      "          (_nodes): ModuleList(\n",
      "            (0-15): 16 x TorchPointerParameter(\n",
      "              (_parameter): TorchTensorParameter()\n",
      "            )\n",
      "            (16): TorchScaledSigmoidParameter()\n",
      "            (17): TorchGaussianProductLogPartition()\n",
      "            (18-19): 2 x TorchReduceSumParameter()\n",
      "          )\n",
      "        )\n",
      "      )\n",
      "      (1-2): 2 x TorchTensorDotLayer(\n",
      "        (weight): TorchParameter(\n",
      "          (_nodes): ModuleList(\n",
      "            (0-7): 8 x TorchPointerParameter(\n",
      "              (_parameter): TorchTensorParameter()\n",
      "            )\n",
      "          )\n",
      "        )\n",
      "      )\n",
      "      (3): TorchHadamardLayer()\n",
      "      (4-5): 2 x TorchTensorDotLayer(\n",
      "        (weight): TorchParameter(\n",
      "          (_nodes): ModuleList(\n",
      "            (0-7): 8 x TorchPointerParameter(\n",
      "              (_parameter): TorchTensorParameter()\n",
      "            )\n",
      "          )\n",
      "        )\n",
      "      )\n",
      "      (6): TorchHadamardLayer()\n",
      "      (7-8): 2 x TorchTensorDotLayer(\n",
      "        (weight): TorchParameter(\n",
      "          (_nodes): ModuleList(\n",
      "            (0-7): 8 x TorchPointerParameter(\n",
      "              (_parameter): TorchTensorParameter()\n",
      "            )\n",
      "          )\n",
      "        )\n",
      "      )\n",
      "      (9): TorchHadamardLayer()\n",
      "      (10-11): 2 x TorchTensorDotLayer(\n",
      "        (weight): TorchParameter(\n",
      "          (_nodes): ModuleList(\n",
      "            (0-7): 8 x TorchPointerParameter(\n",
      "              (_parameter): TorchTensorParameter()\n",
      "            )\n",
      "          )\n",
      "        )\n",
      "      )\n",
      "      (12): TorchHadamardLayer()\n",
      "      (13-14): 2 x TorchTensorDotLayer(\n",
      "        (weight): TorchParameter(\n",
      "          (_nodes): ModuleList(\n",
      "            (0-7): 8 x TorchPointerParameter(\n",
      "              (_parameter): TorchTensorParameter()\n",
      "            )\n",
      "          )\n",
      "        )\n",
      "      )\n",
      "      (15): TorchHadamardLayer()\n",
      "      (16-17): 2 x TorchTensorDotLayer(\n",
      "        (weight): TorchParameter(\n",
      "          (_nodes): ModuleList(\n",
      "            (0-7): 8 x TorchPointerParameter(\n",
      "              (_parameter): TorchTensorParameter()\n",
      "            )\n",
      "          )\n",
      "        )\n",
      "      )\n",
      "      (18): TorchHadamardLayer()\n",
      "      (19-20): 2 x TorchTensorDotLayer(\n",
      "        (weight): TorchParameter(\n",
      "          (_nodes): ModuleList(\n",
      "            (0-7): 8 x TorchPointerParameter(\n",
      "              (_parameter): TorchTensorParameter()\n",
      "            )\n",
      "          )\n",
      "        )\n",
      "      )\n",
      "    )\n",
      "  )\n",
      ")\n"
     ]
    }
   ],
   "source": [
    "print(sos)"
   ]
  },
  {
   "cell_type": "code",
   "execution_count": 20,
   "id": "5ddb1351-2192-4a90-acbf-aa34627bf496",
   "metadata": {},
   "outputs": [],
   "source": [
    "from torch import optim\n",
    "from torch.utils.data import DataLoader"
   ]
  },
  {
   "cell_type": "code",
   "execution_count": 21,
   "id": "e9cb8eb6-34b5-409f-b86a-2faaf644f619",
   "metadata": {},
   "outputs": [],
   "source": [
    "train_dataloader = DataLoader(data_train, shuffle=True, batch_size=512, drop_last=True, num_workers=4)\n",
    "test_dataloader = DataLoader(data_test, shuffle=False, batch_size=512, num_workers=4)\n",
    "optimizer = optim.Adam(sos.parameters(), lr=1e-2)"
   ]
  },
  {
   "cell_type": "code",
   "execution_count": 22,
   "id": "36287b60-d018-4018-b72e-a96553f6f70f",
   "metadata": {},
   "outputs": [],
   "source": [
    "# Move circuit to device\n",
    "sos = sos.to(device)"
   ]
  },
  {
   "cell_type": "code",
   "execution_count": 23,
   "id": "57411f8a-e5ce-4d6e-a67c-21352d49b4f8",
   "metadata": {},
   "outputs": [
    {
     "name": "stdout",
     "output_type": "stream",
     "text": [
      "Epoch 5, step 300: Average NLL: 47.162\n",
      "Epoch 10, step 600: Average NLL: 39.652\n",
      "Epoch 15, step 900: Average NLL: 38.197\n",
      "Epoch 21, step 1200: Average NLL: 37.610\n",
      "Training time: 63.0 seconds\n"
     ]
    }
   ],
   "source": [
    "sos.train()\n",
    "start_time = time.perf_counter()\n",
    "num_epochs = 25\n",
    "step_idx = 0\n",
    "running_loss = 0.0\n",
    "for epoch_idx in range(num_epochs):\n",
    "    for i, batch in enumerate(train_dataloader):\n",
    "        batch = batch.to(device).unsqueeze(dim=1)   # Add a channel dimension\n",
    "        lls = sos.log_likelihood(batch)             # Compute the log-likelihood\n",
    "        loss = -torch.mean(lls)   # The loss is the negative average log-likelihood\n",
    "        loss.backward()\n",
    "        optimizer.step()\n",
    "        optimizer.zero_grad()\n",
    "        running_loss += loss.detach() * len(batch)\n",
    "        step_idx += 1\n",
    "        if step_idx % 300 == 0:\n",
    "            print(f\"Epoch {epoch_idx}, step {step_idx}: Average NLL: {running_loss / (300 * len(batch)):.3f}\")\n",
    "            running_loss = 0.0\n",
    "end_time = time.perf_counter()\n",
    "print(f\"Training time: {end_time - start_time:.1f} seconds\")"
   ]
  },
  {
   "cell_type": "markdown",
   "id": "87ced9cf-182d-4aa3-a22a-f1452d387f58",
   "metadata": {},
   "source": [
    "Note that enabling optimizations at compile time provided us a ~3.5x speed up during training.\n",
    "Next, we check the likelihood on the test data."
   ]
  },
  {
   "cell_type": "code",
   "execution_count": 24,
   "id": "7712a50b-499e-4c5f-a1b9-242de67077c5",
   "metadata": {},
   "outputs": [
    {
     "name": "stdout",
     "output_type": "stream",
     "text": [
      "Average test LL: -37.058\n"
     ]
    }
   ],
   "source": [
    "sos.eval()\n",
    "with torch.no_grad():\n",
    "    test_lls = 0.0\n",
    "    for batch in test_dataloader:\n",
    "        batch = batch.to(device).unsqueeze(dim=1)   # Add a channel dimension\n",
    "        lls = sos.log_likelihood(batch)             # Compute the log-likelihood\n",
    "        test_lls += lls.sum().item()\n",
    "    average_ll = test_lls / len(data_test)\n",
    "    print(f\"Average test LL: {average_ll:.3f}\")"
   ]
  },
  {
   "cell_type": "code",
   "execution_count": null,
   "id": "3fdcf666-3610-4036-acf3-99bf06e2430a",
   "metadata": {},
   "outputs": [],
   "source": []
  }
 ],
 "metadata": {
  "kernelspec": {
   "display_name": "Python 3 (ipykernel)",
   "language": "python",
   "name": "python3"
  },
  "language_info": {
   "codemirror_mode": {
    "name": "ipython",
    "version": 3
   },
   "file_extension": ".py",
   "mimetype": "text/x-python",
   "name": "python",
   "nbconvert_exporter": "python",
   "pygments_lexer": "ipython3",
   "version": "3.10.12"
  }
 },
 "nbformat": 4,
 "nbformat_minor": 5
}
